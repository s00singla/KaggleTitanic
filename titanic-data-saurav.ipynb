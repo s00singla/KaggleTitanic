{
 "cells": [
  {
   "cell_type": "code",
   "execution_count": 1,
   "id": "0a5766e5",
   "metadata": {
    "_cell_guid": "b1076dfc-b9ad-4769-8c92-a6c4dae69d19",
    "_uuid": "8f2839f25d086af736a60e9eeb907d3b93b6e0e5",
    "execution": {
     "iopub.execute_input": "2022-08-30T16:25:44.344698Z",
     "iopub.status.busy": "2022-08-30T16:25:44.344076Z",
     "iopub.status.idle": "2022-08-30T16:25:44.360711Z",
     "shell.execute_reply": "2022-08-30T16:25:44.359694Z"
    },
    "papermill": {
     "duration": 0.039847,
     "end_time": "2022-08-30T16:25:44.363893",
     "exception": false,
     "start_time": "2022-08-30T16:25:44.324046",
     "status": "completed"
    },
    "tags": []
   },
   "outputs": [
    {
     "name": "stdout",
     "output_type": "stream",
     "text": [
      "/kaggle/input/titanic/train.csv\n",
      "/kaggle/input/titanic/test.csv\n",
      "/kaggle/input/titanic/gender_submission.csv\n"
     ]
    }
   ],
   "source": [
    "# This Python 3 environment comes with many helpful analytics libraries installed\n",
    "# It is defined by the kaggle/python Docker image: https://github.com/kaggle/docker-python\n",
    "# For example, here's several helpful packages to load\n",
    "\n",
    "import numpy as np # linear algebra\n",
    "import pandas as pd # data processing, CSV file I/O (e.g. pd.read_csv)\n",
    "\n",
    "# Input data files are available in the read-only \"../input/\" directory\n",
    "# For example, running this (by clicking run or pressing Shift+Enter) will list all files under the input directory\n",
    "\n",
    "import os\n",
    "for dirname, _, filenames in os.walk('/kaggle/input'):\n",
    "    for filename in filenames:\n",
    "        print(os.path.join(dirname, filename))\n",
    "\n",
    "# You can write up to 20GB to the current directory (/kaggle/working/) that gets preserved as output when you create a version using \"Save & Run All\" \n",
    "# You can also write temporary files to /kaggle/temp/, but they won't be saved outside of the current session"
   ]
  },
  {
   "cell_type": "code",
   "execution_count": 2,
   "id": "cfd9a6ee",
   "metadata": {
    "execution": {
     "iopub.execute_input": "2022-08-30T16:25:44.401729Z",
     "iopub.status.busy": "2022-08-30T16:25:44.401208Z",
     "iopub.status.idle": "2022-08-30T16:25:44.444879Z",
     "shell.execute_reply": "2022-08-30T16:25:44.443655Z"
    },
    "papermill": {
     "duration": 0.064524,
     "end_time": "2022-08-30T16:25:44.447406",
     "exception": false,
     "start_time": "2022-08-30T16:25:44.382882",
     "status": "completed"
    },
    "tags": []
   },
   "outputs": [
    {
     "data": {
      "text/html": [
       "<div>\n",
       "<style scoped>\n",
       "    .dataframe tbody tr th:only-of-type {\n",
       "        vertical-align: middle;\n",
       "    }\n",
       "\n",
       "    .dataframe tbody tr th {\n",
       "        vertical-align: top;\n",
       "    }\n",
       "\n",
       "    .dataframe thead th {\n",
       "        text-align: right;\n",
       "    }\n",
       "</style>\n",
       "<table border=\"1\" class=\"dataframe\">\n",
       "  <thead>\n",
       "    <tr style=\"text-align: right;\">\n",
       "      <th></th>\n",
       "      <th>PassengerId</th>\n",
       "      <th>Survived</th>\n",
       "      <th>Pclass</th>\n",
       "      <th>Name</th>\n",
       "      <th>Sex</th>\n",
       "      <th>Age</th>\n",
       "      <th>SibSp</th>\n",
       "      <th>Parch</th>\n",
       "      <th>Ticket</th>\n",
       "      <th>Fare</th>\n",
       "      <th>Cabin</th>\n",
       "      <th>Embarked</th>\n",
       "    </tr>\n",
       "  </thead>\n",
       "  <tbody>\n",
       "    <tr>\n",
       "      <th>0</th>\n",
       "      <td>1</td>\n",
       "      <td>0</td>\n",
       "      <td>3</td>\n",
       "      <td>Braund, Mr. Owen Harris</td>\n",
       "      <td>male</td>\n",
       "      <td>22.0</td>\n",
       "      <td>1</td>\n",
       "      <td>0</td>\n",
       "      <td>A/5 21171</td>\n",
       "      <td>7.2500</td>\n",
       "      <td>NaN</td>\n",
       "      <td>S</td>\n",
       "    </tr>\n",
       "    <tr>\n",
       "      <th>1</th>\n",
       "      <td>2</td>\n",
       "      <td>1</td>\n",
       "      <td>1</td>\n",
       "      <td>Cumings, Mrs. John Bradley (Florence Briggs Th...</td>\n",
       "      <td>female</td>\n",
       "      <td>38.0</td>\n",
       "      <td>1</td>\n",
       "      <td>0</td>\n",
       "      <td>PC 17599</td>\n",
       "      <td>71.2833</td>\n",
       "      <td>C85</td>\n",
       "      <td>C</td>\n",
       "    </tr>\n",
       "    <tr>\n",
       "      <th>2</th>\n",
       "      <td>3</td>\n",
       "      <td>1</td>\n",
       "      <td>3</td>\n",
       "      <td>Heikkinen, Miss. Laina</td>\n",
       "      <td>female</td>\n",
       "      <td>26.0</td>\n",
       "      <td>0</td>\n",
       "      <td>0</td>\n",
       "      <td>STON/O2. 3101282</td>\n",
       "      <td>7.9250</td>\n",
       "      <td>NaN</td>\n",
       "      <td>S</td>\n",
       "    </tr>\n",
       "    <tr>\n",
       "      <th>3</th>\n",
       "      <td>4</td>\n",
       "      <td>1</td>\n",
       "      <td>1</td>\n",
       "      <td>Futrelle, Mrs. Jacques Heath (Lily May Peel)</td>\n",
       "      <td>female</td>\n",
       "      <td>35.0</td>\n",
       "      <td>1</td>\n",
       "      <td>0</td>\n",
       "      <td>113803</td>\n",
       "      <td>53.1000</td>\n",
       "      <td>C123</td>\n",
       "      <td>S</td>\n",
       "    </tr>\n",
       "    <tr>\n",
       "      <th>4</th>\n",
       "      <td>5</td>\n",
       "      <td>0</td>\n",
       "      <td>3</td>\n",
       "      <td>Allen, Mr. William Henry</td>\n",
       "      <td>male</td>\n",
       "      <td>35.0</td>\n",
       "      <td>0</td>\n",
       "      <td>0</td>\n",
       "      <td>373450</td>\n",
       "      <td>8.0500</td>\n",
       "      <td>NaN</td>\n",
       "      <td>S</td>\n",
       "    </tr>\n",
       "  </tbody>\n",
       "</table>\n",
       "</div>"
      ],
      "text/plain": [
       "   PassengerId  Survived  Pclass  \\\n",
       "0            1         0       3   \n",
       "1            2         1       1   \n",
       "2            3         1       3   \n",
       "3            4         1       1   \n",
       "4            5         0       3   \n",
       "\n",
       "                                                Name     Sex   Age  SibSp  \\\n",
       "0                            Braund, Mr. Owen Harris    male  22.0      1   \n",
       "1  Cumings, Mrs. John Bradley (Florence Briggs Th...  female  38.0      1   \n",
       "2                             Heikkinen, Miss. Laina  female  26.0      0   \n",
       "3       Futrelle, Mrs. Jacques Heath (Lily May Peel)  female  35.0      1   \n",
       "4                           Allen, Mr. William Henry    male  35.0      0   \n",
       "\n",
       "   Parch            Ticket     Fare Cabin Embarked  \n",
       "0      0         A/5 21171   7.2500   NaN        S  \n",
       "1      0          PC 17599  71.2833   C85        C  \n",
       "2      0  STON/O2. 3101282   7.9250   NaN        S  \n",
       "3      0            113803  53.1000  C123        S  \n",
       "4      0            373450   8.0500   NaN        S  "
      ]
     },
     "execution_count": 2,
     "metadata": {},
     "output_type": "execute_result"
    }
   ],
   "source": [
    "T_tr = pd.read_csv(r'/kaggle/input/titanic/train.csv')\n",
    "T_tr.head()"
   ]
  },
  {
   "cell_type": "code",
   "execution_count": 3,
   "id": "5590b5a3",
   "metadata": {
    "execution": {
     "iopub.execute_input": "2022-08-30T16:25:44.483162Z",
     "iopub.status.busy": "2022-08-30T16:25:44.482693Z",
     "iopub.status.idle": "2022-08-30T16:25:44.527314Z",
     "shell.execute_reply": "2022-08-30T16:25:44.525896Z"
    },
    "papermill": {
     "duration": 0.066261,
     "end_time": "2022-08-30T16:25:44.530214",
     "exception": false,
     "start_time": "2022-08-30T16:25:44.463953",
     "status": "completed"
    },
    "tags": []
   },
   "outputs": [
    {
     "data": {
      "text/html": [
       "<div>\n",
       "<style scoped>\n",
       "    .dataframe tbody tr th:only-of-type {\n",
       "        vertical-align: middle;\n",
       "    }\n",
       "\n",
       "    .dataframe tbody tr th {\n",
       "        vertical-align: top;\n",
       "    }\n",
       "\n",
       "    .dataframe thead th {\n",
       "        text-align: right;\n",
       "    }\n",
       "</style>\n",
       "<table border=\"1\" class=\"dataframe\">\n",
       "  <thead>\n",
       "    <tr style=\"text-align: right;\">\n",
       "      <th>Pclass</th>\n",
       "      <th>1</th>\n",
       "      <th>2</th>\n",
       "      <th>3</th>\n",
       "    </tr>\n",
       "    <tr>\n",
       "      <th>Survived</th>\n",
       "      <th></th>\n",
       "      <th></th>\n",
       "      <th></th>\n",
       "    </tr>\n",
       "  </thead>\n",
       "  <tbody>\n",
       "    <tr>\n",
       "      <th>0</th>\n",
       "      <td>80</td>\n",
       "      <td>97</td>\n",
       "      <td>372</td>\n",
       "    </tr>\n",
       "    <tr>\n",
       "      <th>1</th>\n",
       "      <td>136</td>\n",
       "      <td>87</td>\n",
       "      <td>119</td>\n",
       "    </tr>\n",
       "  </tbody>\n",
       "</table>\n",
       "</div>"
      ],
      "text/plain": [
       "Pclass      1   2    3\n",
       "Survived              \n",
       "0          80  97  372\n",
       "1         136  87  119"
      ]
     },
     "execution_count": 3,
     "metadata": {},
     "output_type": "execute_result"
    }
   ],
   "source": [
    "(pd.crosstab(T_tr['Survived'], T_tr['Pclass']))"
   ]
  },
  {
   "cell_type": "code",
   "execution_count": 4,
   "id": "bce4720c",
   "metadata": {
    "execution": {
     "iopub.execute_input": "2022-08-30T16:25:44.567765Z",
     "iopub.status.busy": "2022-08-30T16:25:44.567038Z",
     "iopub.status.idle": "2022-08-30T16:25:44.590178Z",
     "shell.execute_reply": "2022-08-30T16:25:44.589260Z"
    },
    "papermill": {
     "duration": 0.044845,
     "end_time": "2022-08-30T16:25:44.592562",
     "exception": false,
     "start_time": "2022-08-30T16:25:44.547717",
     "status": "completed"
    },
    "tags": []
   },
   "outputs": [
    {
     "data": {
      "text/html": [
       "<div>\n",
       "<style scoped>\n",
       "    .dataframe tbody tr th:only-of-type {\n",
       "        vertical-align: middle;\n",
       "    }\n",
       "\n",
       "    .dataframe tbody tr th {\n",
       "        vertical-align: top;\n",
       "    }\n",
       "\n",
       "    .dataframe thead th {\n",
       "        text-align: right;\n",
       "    }\n",
       "</style>\n",
       "<table border=\"1\" class=\"dataframe\">\n",
       "  <thead>\n",
       "    <tr style=\"text-align: right;\">\n",
       "      <th>Sex</th>\n",
       "      <th>female</th>\n",
       "      <th>male</th>\n",
       "    </tr>\n",
       "    <tr>\n",
       "      <th>Survived</th>\n",
       "      <th></th>\n",
       "      <th></th>\n",
       "    </tr>\n",
       "  </thead>\n",
       "  <tbody>\n",
       "    <tr>\n",
       "      <th>0</th>\n",
       "      <td>81</td>\n",
       "      <td>468</td>\n",
       "    </tr>\n",
       "    <tr>\n",
       "      <th>1</th>\n",
       "      <td>233</td>\n",
       "      <td>109</td>\n",
       "    </tr>\n",
       "  </tbody>\n",
       "</table>\n",
       "</div>"
      ],
      "text/plain": [
       "Sex       female  male\n",
       "Survived              \n",
       "0             81   468\n",
       "1            233   109"
      ]
     },
     "execution_count": 4,
     "metadata": {},
     "output_type": "execute_result"
    }
   ],
   "source": [
    "(pd.crosstab(T_tr['Survived'], T_tr['Sex']))"
   ]
  },
  {
   "cell_type": "code",
   "execution_count": 5,
   "id": "0b265fe7",
   "metadata": {
    "execution": {
     "iopub.execute_input": "2022-08-30T16:25:44.630429Z",
     "iopub.status.busy": "2022-08-30T16:25:44.629124Z",
     "iopub.status.idle": "2022-08-30T16:25:44.653923Z",
     "shell.execute_reply": "2022-08-30T16:25:44.652866Z"
    },
    "papermill": {
     "duration": 0.046303,
     "end_time": "2022-08-30T16:25:44.656366",
     "exception": false,
     "start_time": "2022-08-30T16:25:44.610063",
     "status": "completed"
    },
    "tags": []
   },
   "outputs": [
    {
     "data": {
      "text/html": [
       "<div>\n",
       "<style scoped>\n",
       "    .dataframe tbody tr th:only-of-type {\n",
       "        vertical-align: middle;\n",
       "    }\n",
       "\n",
       "    .dataframe tbody tr th {\n",
       "        vertical-align: top;\n",
       "    }\n",
       "\n",
       "    .dataframe thead th {\n",
       "        text-align: right;\n",
       "    }\n",
       "</style>\n",
       "<table border=\"1\" class=\"dataframe\">\n",
       "  <thead>\n",
       "    <tr style=\"text-align: right;\">\n",
       "      <th>Parch</th>\n",
       "      <th>0</th>\n",
       "      <th>1</th>\n",
       "      <th>2</th>\n",
       "      <th>3</th>\n",
       "      <th>4</th>\n",
       "      <th>5</th>\n",
       "      <th>6</th>\n",
       "    </tr>\n",
       "    <tr>\n",
       "      <th>Survived</th>\n",
       "      <th></th>\n",
       "      <th></th>\n",
       "      <th></th>\n",
       "      <th></th>\n",
       "      <th></th>\n",
       "      <th></th>\n",
       "      <th></th>\n",
       "    </tr>\n",
       "  </thead>\n",
       "  <tbody>\n",
       "    <tr>\n",
       "      <th>0</th>\n",
       "      <td>445</td>\n",
       "      <td>53</td>\n",
       "      <td>40</td>\n",
       "      <td>2</td>\n",
       "      <td>4</td>\n",
       "      <td>4</td>\n",
       "      <td>1</td>\n",
       "    </tr>\n",
       "    <tr>\n",
       "      <th>1</th>\n",
       "      <td>233</td>\n",
       "      <td>65</td>\n",
       "      <td>40</td>\n",
       "      <td>3</td>\n",
       "      <td>0</td>\n",
       "      <td>1</td>\n",
       "      <td>0</td>\n",
       "    </tr>\n",
       "  </tbody>\n",
       "</table>\n",
       "</div>"
      ],
      "text/plain": [
       "Parch       0   1   2  3  4  5  6\n",
       "Survived                         \n",
       "0         445  53  40  2  4  4  1\n",
       "1         233  65  40  3  0  1  0"
      ]
     },
     "execution_count": 5,
     "metadata": {},
     "output_type": "execute_result"
    }
   ],
   "source": [
    "(pd.crosstab(T_tr['Survived'], T_tr['Parch']))"
   ]
  },
  {
   "cell_type": "code",
   "execution_count": 6,
   "id": "996e9eb6",
   "metadata": {
    "execution": {
     "iopub.execute_input": "2022-08-30T16:25:44.693143Z",
     "iopub.status.busy": "2022-08-30T16:25:44.692416Z",
     "iopub.status.idle": "2022-08-30T16:25:44.716395Z",
     "shell.execute_reply": "2022-08-30T16:25:44.715180Z"
    },
    "papermill": {
     "duration": 0.045318,
     "end_time": "2022-08-30T16:25:44.718841",
     "exception": false,
     "start_time": "2022-08-30T16:25:44.673523",
     "status": "completed"
    },
    "tags": []
   },
   "outputs": [
    {
     "data": {
      "text/html": [
       "<div>\n",
       "<style scoped>\n",
       "    .dataframe tbody tr th:only-of-type {\n",
       "        vertical-align: middle;\n",
       "    }\n",
       "\n",
       "    .dataframe tbody tr th {\n",
       "        vertical-align: top;\n",
       "    }\n",
       "\n",
       "    .dataframe thead th {\n",
       "        text-align: right;\n",
       "    }\n",
       "</style>\n",
       "<table border=\"1\" class=\"dataframe\">\n",
       "  <thead>\n",
       "    <tr style=\"text-align: right;\">\n",
       "      <th>SibSp</th>\n",
       "      <th>0</th>\n",
       "      <th>1</th>\n",
       "      <th>2</th>\n",
       "      <th>3</th>\n",
       "      <th>4</th>\n",
       "      <th>5</th>\n",
       "      <th>8</th>\n",
       "    </tr>\n",
       "    <tr>\n",
       "      <th>Survived</th>\n",
       "      <th></th>\n",
       "      <th></th>\n",
       "      <th></th>\n",
       "      <th></th>\n",
       "      <th></th>\n",
       "      <th></th>\n",
       "      <th></th>\n",
       "    </tr>\n",
       "  </thead>\n",
       "  <tbody>\n",
       "    <tr>\n",
       "      <th>0</th>\n",
       "      <td>398</td>\n",
       "      <td>97</td>\n",
       "      <td>15</td>\n",
       "      <td>12</td>\n",
       "      <td>15</td>\n",
       "      <td>5</td>\n",
       "      <td>7</td>\n",
       "    </tr>\n",
       "    <tr>\n",
       "      <th>1</th>\n",
       "      <td>210</td>\n",
       "      <td>112</td>\n",
       "      <td>13</td>\n",
       "      <td>4</td>\n",
       "      <td>3</td>\n",
       "      <td>0</td>\n",
       "      <td>0</td>\n",
       "    </tr>\n",
       "  </tbody>\n",
       "</table>\n",
       "</div>"
      ],
      "text/plain": [
       "SibSp       0    1   2   3   4  5  8\n",
       "Survived                            \n",
       "0         398   97  15  12  15  5  7\n",
       "1         210  112  13   4   3  0  0"
      ]
     },
     "execution_count": 6,
     "metadata": {},
     "output_type": "execute_result"
    }
   ],
   "source": [
    "(pd.crosstab(T_tr['Survived'], T_tr['SibSp']))"
   ]
  },
  {
   "cell_type": "code",
   "execution_count": 7,
   "id": "6a727e6c",
   "metadata": {
    "execution": {
     "iopub.execute_input": "2022-08-30T16:25:44.756211Z",
     "iopub.status.busy": "2022-08-30T16:25:44.755518Z",
     "iopub.status.idle": "2022-08-30T16:25:44.781428Z",
     "shell.execute_reply": "2022-08-30T16:25:44.780441Z"
    },
    "papermill": {
     "duration": 0.04773,
     "end_time": "2022-08-30T16:25:44.784103",
     "exception": false,
     "start_time": "2022-08-30T16:25:44.736373",
     "status": "completed"
    },
    "tags": []
   },
   "outputs": [
    {
     "data": {
      "text/html": [
       "<div>\n",
       "<style scoped>\n",
       "    .dataframe tbody tr th:only-of-type {\n",
       "        vertical-align: middle;\n",
       "    }\n",
       "\n",
       "    .dataframe tbody tr th {\n",
       "        vertical-align: top;\n",
       "    }\n",
       "\n",
       "    .dataframe thead tr th {\n",
       "        text-align: left;\n",
       "    }\n",
       "\n",
       "    .dataframe thead tr:last-of-type th {\n",
       "        text-align: right;\n",
       "    }\n",
       "</style>\n",
       "<table border=\"1\" class=\"dataframe\">\n",
       "  <thead>\n",
       "    <tr>\n",
       "      <th>Pclass</th>\n",
       "      <th colspan=\"2\" halign=\"left\">1</th>\n",
       "      <th colspan=\"2\" halign=\"left\">2</th>\n",
       "      <th colspan=\"2\" halign=\"left\">3</th>\n",
       "    </tr>\n",
       "    <tr>\n",
       "      <th>Sex</th>\n",
       "      <th>female</th>\n",
       "      <th>male</th>\n",
       "      <th>female</th>\n",
       "      <th>male</th>\n",
       "      <th>female</th>\n",
       "      <th>male</th>\n",
       "    </tr>\n",
       "    <tr>\n",
       "      <th>Survived</th>\n",
       "      <th></th>\n",
       "      <th></th>\n",
       "      <th></th>\n",
       "      <th></th>\n",
       "      <th></th>\n",
       "      <th></th>\n",
       "    </tr>\n",
       "  </thead>\n",
       "  <tbody>\n",
       "    <tr>\n",
       "      <th>0</th>\n",
       "      <td>3</td>\n",
       "      <td>77</td>\n",
       "      <td>6</td>\n",
       "      <td>91</td>\n",
       "      <td>72</td>\n",
       "      <td>300</td>\n",
       "    </tr>\n",
       "    <tr>\n",
       "      <th>1</th>\n",
       "      <td>91</td>\n",
       "      <td>45</td>\n",
       "      <td>70</td>\n",
       "      <td>17</td>\n",
       "      <td>72</td>\n",
       "      <td>47</td>\n",
       "    </tr>\n",
       "  </tbody>\n",
       "</table>\n",
       "</div>"
      ],
      "text/plain": [
       "Pclass        1           2           3     \n",
       "Sex      female male female male female male\n",
       "Survived                                    \n",
       "0             3   77      6   91     72  300\n",
       "1            91   45     70   17     72   47"
      ]
     },
     "execution_count": 7,
     "metadata": {},
     "output_type": "execute_result"
    }
   ],
   "source": [
    "(pd.crosstab(T_tr['Survived'], [T_tr['Pclass'],T_tr['Sex']]))"
   ]
  },
  {
   "cell_type": "code",
   "execution_count": 8,
   "id": "faba682d",
   "metadata": {
    "execution": {
     "iopub.execute_input": "2022-08-30T16:25:44.822331Z",
     "iopub.status.busy": "2022-08-30T16:25:44.821596Z",
     "iopub.status.idle": "2022-08-30T16:25:44.835478Z",
     "shell.execute_reply": "2022-08-30T16:25:44.834567Z"
    },
    "papermill": {
     "duration": 0.03581,
     "end_time": "2022-08-30T16:25:44.837883",
     "exception": false,
     "start_time": "2022-08-30T16:25:44.802073",
     "status": "completed"
    },
    "tags": []
   },
   "outputs": [
    {
     "data": {
      "text/html": [
       "<div>\n",
       "<style scoped>\n",
       "    .dataframe tbody tr th:only-of-type {\n",
       "        vertical-align: middle;\n",
       "    }\n",
       "\n",
       "    .dataframe tbody tr th {\n",
       "        vertical-align: top;\n",
       "    }\n",
       "\n",
       "    .dataframe thead th {\n",
       "        text-align: right;\n",
       "    }\n",
       "</style>\n",
       "<table border=\"1\" class=\"dataframe\">\n",
       "  <thead>\n",
       "    <tr style=\"text-align: right;\">\n",
       "      <th></th>\n",
       "      <th>Fare</th>\n",
       "      <th>Age</th>\n",
       "      <th>Pclass</th>\n",
       "      <th>Survived</th>\n",
       "    </tr>\n",
       "  </thead>\n",
       "  <tbody>\n",
       "    <tr>\n",
       "      <th>Fare</th>\n",
       "      <td>1.000000</td>\n",
       "      <td>0.096067</td>\n",
       "      <td>-0.549500</td>\n",
       "      <td>0.257307</td>\n",
       "    </tr>\n",
       "    <tr>\n",
       "      <th>Age</th>\n",
       "      <td>0.096067</td>\n",
       "      <td>1.000000</td>\n",
       "      <td>-0.369226</td>\n",
       "      <td>-0.077221</td>\n",
       "    </tr>\n",
       "    <tr>\n",
       "      <th>Pclass</th>\n",
       "      <td>-0.549500</td>\n",
       "      <td>-0.369226</td>\n",
       "      <td>1.000000</td>\n",
       "      <td>-0.338481</td>\n",
       "    </tr>\n",
       "    <tr>\n",
       "      <th>Survived</th>\n",
       "      <td>0.257307</td>\n",
       "      <td>-0.077221</td>\n",
       "      <td>-0.338481</td>\n",
       "      <td>1.000000</td>\n",
       "    </tr>\n",
       "  </tbody>\n",
       "</table>\n",
       "</div>"
      ],
      "text/plain": [
       "              Fare       Age    Pclass  Survived\n",
       "Fare      1.000000  0.096067 -0.549500  0.257307\n",
       "Age       0.096067  1.000000 -0.369226 -0.077221\n",
       "Pclass   -0.549500 -0.369226  1.000000 -0.338481\n",
       "Survived  0.257307 -0.077221 -0.338481  1.000000"
      ]
     },
     "execution_count": 8,
     "metadata": {},
     "output_type": "execute_result"
    }
   ],
   "source": [
    "Cont_var=['Fare', 'Age', 'Pclass','Survived', 'Embarked']\n",
    "T_tr_c=T_tr[Cont_var]\n",
    "T_tr_c.corr()"
   ]
  },
  {
   "cell_type": "code",
   "execution_count": 9,
   "id": "ef5ea43e",
   "metadata": {
    "execution": {
     "iopub.execute_input": "2022-08-30T16:25:44.876726Z",
     "iopub.status.busy": "2022-08-30T16:25:44.875872Z",
     "iopub.status.idle": "2022-08-30T16:25:46.458310Z",
     "shell.execute_reply": "2022-08-30T16:25:46.456694Z"
    },
    "papermill": {
     "duration": 1.604928,
     "end_time": "2022-08-30T16:25:46.461359",
     "exception": false,
     "start_time": "2022-08-30T16:25:44.856431",
     "status": "completed"
    },
    "tags": []
   },
   "outputs": [
    {
     "data": {
      "text/plain": [
       "<AxesSubplot:>"
      ]
     },
     "execution_count": 9,
     "metadata": {},
     "output_type": "execute_result"
    },
    {
     "data": {
      "image/png": "[encoded data removed]",
      "text/plain": [
       "<Figure size 432x288 with 2 Axes>"
      ]
     },
     "metadata": {
      "needs_background": "light"
     },
     "output_type": "display_data"
    }
   ],
   "source": [
    "import seaborn as sns\n",
    "sns.heatmap(T_tr_c.corr(), vmin=-1, vmax=1, cmap=sns.diverging_palette(20, 220, as_cmap=True))"
   ]
  },
  {
   "cell_type": "markdown",
   "id": "59b3d81c",
   "metadata": {
    "papermill": {
     "duration": 0.017257,
     "end_time": "2022-08-30T16:25:46.496566",
     "exception": false,
     "start_time": "2022-08-30T16:25:46.479309",
     "status": "completed"
    },
    "tags": []
   },
   "source": [
    "The `Fare` and `Age` variables are continous varaibles. Though the `Survived` "
   ]
  },
  {
   "cell_type": "code",
   "execution_count": 10,
   "id": "5c154943",
   "metadata": {
    "execution": {
     "iopub.execute_input": "2022-08-30T16:25:46.533623Z",
     "iopub.status.busy": "2022-08-30T16:25:46.533153Z",
     "iopub.status.idle": "2022-08-30T16:25:46.774001Z",
     "shell.execute_reply": "2022-08-30T16:25:46.773208Z"
    },
    "papermill": {
     "duration": 0.262126,
     "end_time": "2022-08-30T16:25:46.776259",
     "exception": false,
     "start_time": "2022-08-30T16:25:46.514133",
     "status": "completed"
    },
    "tags": []
   },
   "outputs": [
    {
     "data": {
      "image/png": "[encoded data removed]",
      "text/plain": [
       "<Figure size 432x288 with 1 Axes>"
      ]
     },
     "metadata": {
      "needs_background": "light"
     },
     "output_type": "display_data"
    }
   ],
   "source": [
    " ax=T_tr_c.boxplot(by='Survived', column=['Age'])"
   ]
  },
  {
   "cell_type": "code",
   "execution_count": 11,
   "id": "1e05ca22",
   "metadata": {
    "execution": {
     "iopub.execute_input": "2022-08-30T16:25:46.813773Z",
     "iopub.status.busy": "2022-08-30T16:25:46.813018Z",
     "iopub.status.idle": "2022-08-30T16:25:47.038009Z",
     "shell.execute_reply": "2022-08-30T16:25:47.037133Z"
    },
    "papermill": {
     "duration": 0.246465,
     "end_time": "2022-08-30T16:25:47.040363",
     "exception": false,
     "start_time": "2022-08-30T16:25:46.793898",
     "status": "completed"
    },
    "tags": []
   },
   "outputs": [
    {
     "data": {
      "text/plain": [
       "<AxesSubplot:xlabel='Survived', ylabel='Fare'>"
      ]
     },
     "execution_count": 11,
     "metadata": {},
     "output_type": "execute_result"
    },
    {
     "data": {
      "image/png": "[encoded data removed]",
      "text/plain": [
       "<Figure size 432x288 with 1 Axes>"
      ]
     },
     "metadata": {},
     "output_type": "display_data"
    }
   ],
   "source": [
    "sns.set_style('whitegrid')\n",
    "sns.boxplot(x=\"Survived\", y='Fare',data=T_tr)"
   ]
  },
  {
   "cell_type": "markdown",
   "id": "9e4a629e",
   "metadata": {
    "papermill": {
     "duration": 0.018513,
     "end_time": "2022-08-30T16:25:47.077980",
     "exception": false,
     "start_time": "2022-08-30T16:25:47.059467",
     "status": "completed"
    },
    "tags": []
   },
   "source": [
    "We Define `X` and `y`"
   ]
  },
  {
   "cell_type": "code",
   "execution_count": 12,
   "id": "c641cf1d",
   "metadata": {
    "execution": {
     "iopub.execute_input": "2022-08-30T16:25:47.118664Z",
     "iopub.status.busy": "2022-08-30T16:25:47.118136Z",
     "iopub.status.idle": "2022-08-30T16:25:47.136921Z",
     "shell.execute_reply": "2022-08-30T16:25:47.135997Z"
    },
    "papermill": {
     "duration": 0.04165,
     "end_time": "2022-08-30T16:25:47.139100",
     "exception": false,
     "start_time": "2022-08-30T16:25:47.097450",
     "status": "completed"
    },
    "tags": []
   },
   "outputs": [
    {
     "data": {
      "text/html": [
       "<div>\n",
       "<style scoped>\n",
       "    .dataframe tbody tr th:only-of-type {\n",
       "        vertical-align: middle;\n",
       "    }\n",
       "\n",
       "    .dataframe tbody tr th {\n",
       "        vertical-align: top;\n",
       "    }\n",
       "\n",
       "    .dataframe thead th {\n",
       "        text-align: right;\n",
       "    }\n",
       "</style>\n",
       "<table border=\"1\" class=\"dataframe\">\n",
       "  <thead>\n",
       "    <tr style=\"text-align: right;\">\n",
       "      <th></th>\n",
       "      <th>Pclass</th>\n",
       "      <th>Parch</th>\n",
       "      <th>SibSp</th>\n",
       "      <th>Sex</th>\n",
       "      <th>Embarked</th>\n",
       "      <th>Fare</th>\n",
       "      <th>Survived</th>\n",
       "    </tr>\n",
       "  </thead>\n",
       "  <tbody>\n",
       "    <tr>\n",
       "      <th>0</th>\n",
       "      <td>3</td>\n",
       "      <td>0</td>\n",
       "      <td>1</td>\n",
       "      <td>male</td>\n",
       "      <td>S</td>\n",
       "      <td>7.2500</td>\n",
       "      <td>0</td>\n",
       "    </tr>\n",
       "    <tr>\n",
       "      <th>1</th>\n",
       "      <td>1</td>\n",
       "      <td>0</td>\n",
       "      <td>1</td>\n",
       "      <td>female</td>\n",
       "      <td>C</td>\n",
       "      <td>71.2833</td>\n",
       "      <td>1</td>\n",
       "    </tr>\n",
       "    <tr>\n",
       "      <th>2</th>\n",
       "      <td>3</td>\n",
       "      <td>0</td>\n",
       "      <td>0</td>\n",
       "      <td>female</td>\n",
       "      <td>S</td>\n",
       "      <td>7.9250</td>\n",
       "      <td>1</td>\n",
       "    </tr>\n",
       "    <tr>\n",
       "      <th>3</th>\n",
       "      <td>1</td>\n",
       "      <td>0</td>\n",
       "      <td>1</td>\n",
       "      <td>female</td>\n",
       "      <td>S</td>\n",
       "      <td>53.1000</td>\n",
       "      <td>1</td>\n",
       "    </tr>\n",
       "    <tr>\n",
       "      <th>4</th>\n",
       "      <td>3</td>\n",
       "      <td>0</td>\n",
       "      <td>0</td>\n",
       "      <td>male</td>\n",
       "      <td>S</td>\n",
       "      <td>8.0500</td>\n",
       "      <td>0</td>\n",
       "    </tr>\n",
       "  </tbody>\n",
       "</table>\n",
       "</div>"
      ],
      "text/plain": [
       "   Pclass  Parch  SibSp     Sex Embarked     Fare  Survived\n",
       "0       3      0      1    male        S   7.2500         0\n",
       "1       1      0      1  female        C  71.2833         1\n",
       "2       3      0      0  female        S   7.9250         1\n",
       "3       1      0      1  female        S  53.1000         1\n",
       "4       3      0      0    male        S   8.0500         0"
      ]
     },
     "execution_count": 12,
     "metadata": {},
     "output_type": "execute_result"
    }
   ],
   "source": [
    "subset=['Pclass', 'Parch','SibSp', 'Sex','Embarked', 'Fare','Survived']\n",
    "T_tr_sub=T_tr[subset]\n",
    "\n",
    "T_tr_sub=T_tr_sub.dropna()\n",
    "\n",
    "T_tr_sub.head()"
   ]
  },
  {
   "cell_type": "code",
   "execution_count": 13,
   "id": "6db2c194",
   "metadata": {
    "execution": {
     "iopub.execute_input": "2022-08-30T16:25:47.180181Z",
     "iopub.status.busy": "2022-08-30T16:25:47.179206Z",
     "iopub.status.idle": "2022-08-30T16:25:47.208111Z",
     "shell.execute_reply": "2022-08-30T16:25:47.206717Z"
    },
    "papermill": {
     "duration": 0.052624,
     "end_time": "2022-08-30T16:25:47.211010",
     "exception": false,
     "start_time": "2022-08-30T16:25:47.158386",
     "status": "completed"
    },
    "tags": []
   },
   "outputs": [
    {
     "data": {
      "text/html": [
       "<div>\n",
       "<style scoped>\n",
       "    .dataframe tbody tr th:only-of-type {\n",
       "        vertical-align: middle;\n",
       "    }\n",
       "\n",
       "    .dataframe tbody tr th {\n",
       "        vertical-align: top;\n",
       "    }\n",
       "\n",
       "    .dataframe thead th {\n",
       "        text-align: right;\n",
       "    }\n",
       "</style>\n",
       "<table border=\"1\" class=\"dataframe\">\n",
       "  <thead>\n",
       "    <tr style=\"text-align: right;\">\n",
       "      <th></th>\n",
       "      <th>Pclass_2</th>\n",
       "      <th>Pclass_3</th>\n",
       "      <th>Parch_1</th>\n",
       "      <th>Parch_2</th>\n",
       "      <th>Parch_3</th>\n",
       "      <th>Parch_4</th>\n",
       "      <th>Parch_5</th>\n",
       "      <th>Parch_6</th>\n",
       "      <th>SibSp_1</th>\n",
       "      <th>SibSp_2</th>\n",
       "      <th>SibSp_3</th>\n",
       "      <th>SibSp_4</th>\n",
       "      <th>SibSp_5</th>\n",
       "      <th>SibSp_8</th>\n",
       "      <th>Sex_male</th>\n",
       "      <th>Embarked_Q</th>\n",
       "      <th>Embarked_S</th>\n",
       "      <th>Fare</th>\n",
       "    </tr>\n",
       "  </thead>\n",
       "  <tbody>\n",
       "    <tr>\n",
       "      <th>0</th>\n",
       "      <td>0</td>\n",
       "      <td>1</td>\n",
       "      <td>0</td>\n",
       "      <td>0</td>\n",
       "      <td>0</td>\n",
       "      <td>0</td>\n",
       "      <td>0</td>\n",
       "      <td>0</td>\n",
       "      <td>1</td>\n",
       "      <td>0</td>\n",
       "      <td>0</td>\n",
       "      <td>0</td>\n",
       "      <td>0</td>\n",
       "      <td>0</td>\n",
       "      <td>1</td>\n",
       "      <td>0</td>\n",
       "      <td>1</td>\n",
       "      <td>7.2500</td>\n",
       "    </tr>\n",
       "    <tr>\n",
       "      <th>1</th>\n",
       "      <td>0</td>\n",
       "      <td>0</td>\n",
       "      <td>0</td>\n",
       "      <td>0</td>\n",
       "      <td>0</td>\n",
       "      <td>0</td>\n",
       "      <td>0</td>\n",
       "      <td>0</td>\n",
       "      <td>1</td>\n",
       "      <td>0</td>\n",
       "      <td>0</td>\n",
       "      <td>0</td>\n",
       "      <td>0</td>\n",
       "      <td>0</td>\n",
       "      <td>0</td>\n",
       "      <td>0</td>\n",
       "      <td>0</td>\n",
       "      <td>71.2833</td>\n",
       "    </tr>\n",
       "    <tr>\n",
       "      <th>2</th>\n",
       "      <td>0</td>\n",
       "      <td>1</td>\n",
       "      <td>0</td>\n",
       "      <td>0</td>\n",
       "      <td>0</td>\n",
       "      <td>0</td>\n",
       "      <td>0</td>\n",
       "      <td>0</td>\n",
       "      <td>0</td>\n",
       "      <td>0</td>\n",
       "      <td>0</td>\n",
       "      <td>0</td>\n",
       "      <td>0</td>\n",
       "      <td>0</td>\n",
       "      <td>0</td>\n",
       "      <td>0</td>\n",
       "      <td>1</td>\n",
       "      <td>7.9250</td>\n",
       "    </tr>\n",
       "    <tr>\n",
       "      <th>3</th>\n",
       "      <td>0</td>\n",
       "      <td>0</td>\n",
       "      <td>0</td>\n",
       "      <td>0</td>\n",
       "      <td>0</td>\n",
       "      <td>0</td>\n",
       "      <td>0</td>\n",
       "      <td>0</td>\n",
       "      <td>1</td>\n",
       "      <td>0</td>\n",
       "      <td>0</td>\n",
       "      <td>0</td>\n",
       "      <td>0</td>\n",
       "      <td>0</td>\n",
       "      <td>0</td>\n",
       "      <td>0</td>\n",
       "      <td>1</td>\n",
       "      <td>53.1000</td>\n",
       "    </tr>\n",
       "    <tr>\n",
       "      <th>4</th>\n",
       "      <td>0</td>\n",
       "      <td>1</td>\n",
       "      <td>0</td>\n",
       "      <td>0</td>\n",
       "      <td>0</td>\n",
       "      <td>0</td>\n",
       "      <td>0</td>\n",
       "      <td>0</td>\n",
       "      <td>0</td>\n",
       "      <td>0</td>\n",
       "      <td>0</td>\n",
       "      <td>0</td>\n",
       "      <td>0</td>\n",
       "      <td>0</td>\n",
       "      <td>1</td>\n",
       "      <td>0</td>\n",
       "      <td>1</td>\n",
       "      <td>8.0500</td>\n",
       "    </tr>\n",
       "  </tbody>\n",
       "</table>\n",
       "</div>"
      ],
      "text/plain": [
       "   Pclass_2  Pclass_3  Parch_1  Parch_2  Parch_3  Parch_4  Parch_5  Parch_6  \\\n",
       "0         0         1        0        0        0        0        0        0   \n",
       "1         0         0        0        0        0        0        0        0   \n",
       "2         0         1        0        0        0        0        0        0   \n",
       "3         0         0        0        0        0        0        0        0   \n",
       "4         0         1        0        0        0        0        0        0   \n",
       "\n",
       "   SibSp_1  SibSp_2  SibSp_3  SibSp_4  SibSp_5  SibSp_8  Sex_male  Embarked_Q  \\\n",
       "0        1        0        0        0        0        0         1           0   \n",
       "1        1        0        0        0        0        0         0           0   \n",
       "2        0        0        0        0        0        0         0           0   \n",
       "3        1        0        0        0        0        0         0           0   \n",
       "4        0        0        0        0        0        0         1           0   \n",
       "\n",
       "   Embarked_S     Fare  \n",
       "0           1   7.2500  \n",
       "1           0  71.2833  \n",
       "2           1   7.9250  \n",
       "3           1  53.1000  \n",
       "4           1   8.0500  "
      ]
     },
     "execution_count": 13,
     "metadata": {},
     "output_type": "execute_result"
    }
   ],
   "source": [
    "predictors=['Pclass', 'Parch','SibSp', 'Sex','Embarked', 'Fare']\n",
    "subs=['Pclass', 'Parch','SibSp', 'Sex','Embarked']\n",
    "T_tr_subss=T_tr_sub[subs]\n",
    "X=pd.get_dummies(T_tr_subss,drop_first=True, columns=T_tr_subss.columns)\n",
    "X=pd.concat([X, T_tr_sub[['Fare']]], axis=1)\n",
    "Outcome='Survived'\n",
    "Y=T_tr_sub[Outcome]\n",
    "\n",
    "X.head()"
   ]
  },
  {
   "cell_type": "code",
   "execution_count": 14,
   "id": "9fe5cbd2",
   "metadata": {
    "execution": {
     "iopub.execute_input": "2022-08-30T16:25:47.252380Z",
     "iopub.status.busy": "2022-08-30T16:25:47.251137Z",
     "iopub.status.idle": "2022-08-30T16:25:47.480635Z",
     "shell.execute_reply": "2022-08-30T16:25:47.478835Z"
    },
    "papermill": {
     "duration": 0.253601,
     "end_time": "2022-08-30T16:25:47.483855",
     "exception": false,
     "start_time": "2022-08-30T16:25:47.230254",
     "status": "completed"
    },
    "tags": []
   },
   "outputs": [
    {
     "name": "stdout",
     "output_type": "stream",
     "text": [
      "(666, 18) (666,)\n"
     ]
    }
   ],
   "source": [
    "from sklearn.model_selection import train_test_split\n",
    "x_train, x_test, y_train, y_test = train_test_split(X,Y, test_size=.25,random_state=0)\n",
    "xtsh=x_train.shape\n",
    "ytsh=y_train.shape\n",
    "print(xtsh, ytsh)"
   ]
  },
  {
   "cell_type": "code",
   "execution_count": 15,
   "id": "915c0eac",
   "metadata": {
    "execution": {
     "iopub.execute_input": "2022-08-30T16:25:47.524879Z",
     "iopub.status.busy": "2022-08-30T16:25:47.524411Z",
     "iopub.status.idle": "2022-08-30T16:25:47.623320Z",
     "shell.execute_reply": "2022-08-30T16:25:47.621976Z"
    },
    "papermill": {
     "duration": 0.122634,
     "end_time": "2022-08-30T16:25:47.626197",
     "exception": false,
     "start_time": "2022-08-30T16:25:47.503563",
     "status": "completed"
    },
    "tags": []
   },
   "outputs": [
    {
     "data": {
      "text/plain": [
       "LogisticRegression(C=1e+42, solver='liblinear')"
      ]
     },
     "execution_count": 15,
     "metadata": {},
     "output_type": "execute_result"
    }
   ],
   "source": [
    "from sklearn.linear_model import LogisticRegression\n",
    "logit_reg = LogisticRegression(penalty='l2', C=1e42, solver='liblinear')\n",
    "logit_reg.fit(X=x_train,y=y_train)"
   ]
  },
  {
   "cell_type": "code",
   "execution_count": 16,
   "id": "88610648",
   "metadata": {
    "execution": {
     "iopub.execute_input": "2022-08-30T16:25:47.669022Z",
     "iopub.status.busy": "2022-08-30T16:25:47.668043Z",
     "iopub.status.idle": "2022-08-30T16:25:47.691035Z",
     "shell.execute_reply": "2022-08-30T16:25:47.689795Z"
    },
    "papermill": {
     "duration": 0.048638,
     "end_time": "2022-08-30T16:25:47.695337",
     "exception": false,
     "start_time": "2022-08-30T16:25:47.646699",
     "status": "completed"
    },
    "tags": []
   },
   "outputs": [
    {
     "data": {
      "text/html": [
       "<div>\n",
       "<style scoped>\n",
       "    .dataframe tbody tr th:only-of-type {\n",
       "        vertical-align: middle;\n",
       "    }\n",
       "\n",
       "    .dataframe tbody tr th {\n",
       "        vertical-align: top;\n",
       "    }\n",
       "\n",
       "    .dataframe thead th {\n",
       "        text-align: right;\n",
       "    }\n",
       "</style>\n",
       "<table border=\"1\" class=\"dataframe\">\n",
       "  <thead>\n",
       "    <tr style=\"text-align: right;\">\n",
       "      <th></th>\n",
       "      <th>0</th>\n",
       "      <th>1</th>\n",
       "    </tr>\n",
       "  </thead>\n",
       "  <tbody>\n",
       "    <tr>\n",
       "      <th>0</th>\n",
       "      <td>0.057702</td>\n",
       "      <td>0.942298</td>\n",
       "    </tr>\n",
       "    <tr>\n",
       "      <th>1</th>\n",
       "      <td>0.829006</td>\n",
       "      <td>0.170994</td>\n",
       "    </tr>\n",
       "    <tr>\n",
       "      <th>2</th>\n",
       "      <td>0.410717</td>\n",
       "      <td>0.589283</td>\n",
       "    </tr>\n",
       "    <tr>\n",
       "      <th>3</th>\n",
       "      <td>0.915915</td>\n",
       "      <td>0.084085</td>\n",
       "    </tr>\n",
       "    <tr>\n",
       "      <th>4</th>\n",
       "      <td>0.921088</td>\n",
       "      <td>0.078912</td>\n",
       "    </tr>\n",
       "  </tbody>\n",
       "</table>\n",
       "</div>"
      ],
      "text/plain": [
       "          0         1\n",
       "0  0.057702  0.942298\n",
       "1  0.829006  0.170994\n",
       "2  0.410717  0.589283\n",
       "3  0.915915  0.084085\n",
       "4  0.921088  0.078912"
      ]
     },
     "execution_count": 16,
     "metadata": {},
     "output_type": "execute_result"
    }
   ],
   "source": [
    "pred = pd.DataFrame(logit_reg.predict_proba(X=x_train))\n",
    "#columns=T_tr_sub[Outcome].cat.categories)\n",
    "pred.head()"
   ]
  },
  {
   "cell_type": "code",
   "execution_count": 17,
   "id": "1a7ec6fa",
   "metadata": {
    "execution": {
     "iopub.execute_input": "2022-08-30T16:25:47.798833Z",
     "iopub.status.busy": "2022-08-30T16:25:47.798272Z",
     "iopub.status.idle": "2022-08-30T16:25:48.651402Z",
     "shell.execute_reply": "2022-08-30T16:25:48.649750Z"
    },
    "papermill": {
     "duration": 0.909942,
     "end_time": "2022-08-30T16:25:48.656529",
     "exception": false,
     "start_time": "2022-08-30T16:25:47.746587",
     "status": "completed"
    },
    "tags": []
   },
   "outputs": [
    {
     "data": {
      "text/html": [
       "<table class=\"simpletable\">\n",
       "<caption>Generalized Linear Model Regression Results</caption>\n",
       "<tr>\n",
       "  <th>Dep. Variable:</th>       <td>Survived</td>     <th>  No. Observations:  </th>  <td>   666</td> \n",
       "</tr>\n",
       "<tr>\n",
       "  <th>Model:</th>                  <td>GLM</td>       <th>  Df Residuals:      </th>  <td>   647</td> \n",
       "</tr>\n",
       "<tr>\n",
       "  <th>Model Family:</th>        <td>Binomial</td>     <th>  Df Model:          </th>  <td>    18</td> \n",
       "</tr>\n",
       "<tr>\n",
       "  <th>Link Function:</th>         <td>Logit</td>      <th>  Scale:             </th> <td>  1.0000</td>\n",
       "</tr>\n",
       "<tr>\n",
       "  <th>Method:</th>                <td>IRLS</td>       <th>  Log-Likelihood:    </th> <td> -283.74</td>\n",
       "</tr>\n",
       "<tr>\n",
       "  <th>Date:</th>            <td>Tue, 30 Aug 2022</td> <th>  Deviance:          </th> <td>  567.48</td>\n",
       "</tr>\n",
       "<tr>\n",
       "  <th>Time:</th>                <td>16:25:48</td>     <th>  Pearson chi2:      </th>  <td>  659.</td> \n",
       "</tr>\n",
       "<tr>\n",
       "  <th>No. Iterations:</th>         <td>21</td>        <th>  Pseudo R-squ. (CS):</th>  <td>0.3749</td> \n",
       "</tr>\n",
       "<tr>\n",
       "  <th>Covariance Type:</th>     <td>nonrobust</td>    <th>                     </th>     <td> </td>   \n",
       "</tr>\n",
       "</table>\n",
       "<table class=\"simpletable\">\n",
       "<tr>\n",
       "       <td></td>         <th>coef</th>     <th>std err</th>      <th>z</th>      <th>P>|z|</th>  <th>[0.025</th>    <th>0.975]</th>  \n",
       "</tr>\n",
       "<tr>\n",
       "  <th>Pclass_2</th>   <td>   -0.7779</td> <td>    0.339</td> <td>   -2.292</td> <td> 0.022</td> <td>   -1.443</td> <td>   -0.113</td>\n",
       "</tr>\n",
       "<tr>\n",
       "  <th>Pclass_3</th>   <td>   -1.6149</td> <td>    0.324</td> <td>   -4.983</td> <td> 0.000</td> <td>   -2.250</td> <td>   -0.980</td>\n",
       "</tr>\n",
       "<tr>\n",
       "  <th>Parch_1</th>    <td>    0.8203</td> <td>    0.344</td> <td>    2.384</td> <td> 0.017</td> <td>    0.146</td> <td>    1.495</td>\n",
       "</tr>\n",
       "<tr>\n",
       "  <th>Parch_2</th>    <td>    0.4844</td> <td>    0.443</td> <td>    1.093</td> <td> 0.274</td> <td>   -0.384</td> <td>    1.353</td>\n",
       "</tr>\n",
       "<tr>\n",
       "  <th>Parch_3</th>    <td>    0.2354</td> <td>    1.194</td> <td>    0.197</td> <td> 0.844</td> <td>   -2.104</td> <td>    2.575</td>\n",
       "</tr>\n",
       "<tr>\n",
       "  <th>Parch_4</th>    <td>  -22.0794</td> <td> 2.43e+04</td> <td>   -0.001</td> <td> 0.999</td> <td>-4.76e+04</td> <td> 4.75e+04</td>\n",
       "</tr>\n",
       "<tr>\n",
       "  <th>Parch_5</th>    <td>   -1.7533</td> <td>    1.190</td> <td>   -1.473</td> <td> 0.141</td> <td>   -4.086</td> <td>    0.579</td>\n",
       "</tr>\n",
       "<tr>\n",
       "  <th>Parch_6</th>    <td>  -23.0054</td> <td> 4.82e+04</td> <td>   -0.000</td> <td> 1.000</td> <td>-9.45e+04</td> <td> 9.44e+04</td>\n",
       "</tr>\n",
       "<tr>\n",
       "  <th>SibSp_1</th>    <td>    0.0428</td> <td>    0.261</td> <td>    0.164</td> <td> 0.870</td> <td>   -0.469</td> <td>    0.555</td>\n",
       "</tr>\n",
       "<tr>\n",
       "  <th>SibSp_2</th>    <td>   -0.0461</td> <td>    0.593</td> <td>   -0.078</td> <td> 0.938</td> <td>   -1.207</td> <td>    1.115</td>\n",
       "</tr>\n",
       "<tr>\n",
       "  <th>SibSp_3</th>    <td>   -2.0780</td> <td>    0.875</td> <td>   -2.375</td> <td> 0.018</td> <td>   -3.793</td> <td>   -0.363</td>\n",
       "</tr>\n",
       "<tr>\n",
       "  <th>SibSp_4</th>    <td>   -1.3361</td> <td>    0.782</td> <td>   -1.708</td> <td> 0.088</td> <td>   -2.869</td> <td>    0.197</td>\n",
       "</tr>\n",
       "<tr>\n",
       "  <th>SibSp_5</th>    <td>  -21.9279</td> <td> 2.07e+04</td> <td>   -0.001</td> <td> 0.999</td> <td>-4.05e+04</td> <td> 4.05e+04</td>\n",
       "</tr>\n",
       "<tr>\n",
       "  <th>SibSp_8</th>    <td>  -22.6781</td> <td>  1.8e+04</td> <td>   -0.001</td> <td> 0.999</td> <td>-3.54e+04</td> <td> 3.53e+04</td>\n",
       "</tr>\n",
       "<tr>\n",
       "  <th>Sex_male</th>   <td>   -2.7588</td> <td>    0.237</td> <td>  -11.645</td> <td> 0.000</td> <td>   -3.223</td> <td>   -2.294</td>\n",
       "</tr>\n",
       "<tr>\n",
       "  <th>Embarked_Q</th> <td>    0.3916</td> <td>    0.442</td> <td>    0.886</td> <td> 0.376</td> <td>   -0.475</td> <td>    1.258</td>\n",
       "</tr>\n",
       "<tr>\n",
       "  <th>Embarked_S</th> <td>   -0.4844</td> <td>    0.279</td> <td>   -1.736</td> <td> 0.083</td> <td>   -1.031</td> <td>    0.062</td>\n",
       "</tr>\n",
       "<tr>\n",
       "  <th>Fare</th>       <td>    0.0025</td> <td>    0.003</td> <td>    0.916</td> <td> 0.360</td> <td>   -0.003</td> <td>    0.008</td>\n",
       "</tr>\n",
       "<tr>\n",
       "  <th>const</th>      <td>    2.3769</td> <td>    0.418</td> <td>    5.692</td> <td> 0.000</td> <td>    1.559</td> <td>    3.195</td>\n",
       "</tr>\n",
       "</table>"
      ],
      "text/plain": [
       "<class 'statsmodels.iolib.summary.Summary'>\n",
       "\"\"\"\n",
       "                 Generalized Linear Model Regression Results                  \n",
       "==============================================================================\n",
       "Dep. Variable:               Survived   No. Observations:                  666\n",
       "Model:                            GLM   Df Residuals:                      647\n",
       "Model Family:                Binomial   Df Model:                           18\n",
       "Link Function:                  Logit   Scale:                          1.0000\n",
       "Method:                          IRLS   Log-Likelihood:                -283.74\n",
       "Date:                Tue, 30 Aug 2022   Deviance:                       567.48\n",
       "Time:                        16:25:48   Pearson chi2:                     659.\n",
       "No. Iterations:                    21   Pseudo R-squ. (CS):             0.3749\n",
       "Covariance Type:            nonrobust                                         \n",
       "==============================================================================\n",
       "                 coef    std err          z      P>|z|      [0.025      0.975]\n",
       "------------------------------------------------------------------------------\n",
       "Pclass_2      -0.7779      0.339     -2.292      0.022      -1.443      -0.113\n",
       "Pclass_3      -1.6149      0.324     -4.983      0.000      -2.250      -0.980\n",
       "Parch_1        0.8203      0.344      2.384      0.017       0.146       1.495\n",
       "Parch_2        0.4844      0.443      1.093      0.274      -0.384       1.353\n",
       "Parch_3        0.2354      1.194      0.197      0.844      -2.104       2.575\n",
       "Parch_4      -22.0794   2.43e+04     -0.001      0.999   -4.76e+04    4.75e+04\n",
       "Parch_5       -1.7533      1.190     -1.473      0.141      -4.086       0.579\n",
       "Parch_6      -23.0054   4.82e+04     -0.000      1.000   -9.45e+04    9.44e+04\n",
       "SibSp_1        0.0428      0.261      0.164      0.870      -0.469       0.555\n",
       "SibSp_2       -0.0461      0.593     -0.078      0.938      -1.207       1.115\n",
       "SibSp_3       -2.0780      0.875     -2.375      0.018      -3.793      -0.363\n",
       "SibSp_4       -1.3361      0.782     -1.708      0.088      -2.869       0.197\n",
       "SibSp_5      -21.9279   2.07e+04     -0.001      0.999   -4.05e+04    4.05e+04\n",
       "SibSp_8      -22.6781    1.8e+04     -0.001      0.999   -3.54e+04    3.53e+04\n",
       "Sex_male      -2.7588      0.237    -11.645      0.000      -3.223      -2.294\n",
       "Embarked_Q     0.3916      0.442      0.886      0.376      -0.475       1.258\n",
       "Embarked_S    -0.4844      0.279     -1.736      0.083      -1.031       0.062\n",
       "Fare           0.0025      0.003      0.916      0.360      -0.003       0.008\n",
       "const          2.3769      0.418      5.692      0.000       1.559       3.195\n",
       "==============================================================================\n",
       "\"\"\""
      ]
     },
     "execution_count": 17,
     "metadata": {},
     "output_type": "execute_result"
    }
   ],
   "source": [
    "import statsmodels.api as sm\n",
    "#y_numbers = [1 if yi == 1 else 0 for yi in y] \n",
    "logit_reg_sm = sm.GLM(y_train, x_train.assign(const=1),family=sm.families.Binomial() )\n",
    "logit_regsult=logit_reg_sm.fit()\n",
    "logit_regsult.summary()"
   ]
  },
  {
   "cell_type": "code",
   "execution_count": 18,
   "id": "63b9c0a3",
   "metadata": {
    "execution": {
     "iopub.execute_input": "2022-08-30T16:25:48.736011Z",
     "iopub.status.busy": "2022-08-30T16:25:48.735619Z",
     "iopub.status.idle": "2022-08-30T16:25:48.754770Z",
     "shell.execute_reply": "2022-08-30T16:25:48.753121Z"
    },
    "papermill": {
     "duration": 0.052039,
     "end_time": "2022-08-30T16:25:48.759427",
     "exception": false,
     "start_time": "2022-08-30T16:25:48.707388",
     "status": "completed"
    },
    "tags": []
   },
   "outputs": [],
   "source": [
    "pred = logit_reg.predict(X)\n",
    "pred_y = logit_reg.predict(X) == 1\n",
    "true_y = Y == 1\n",
    "true_pos = true_y & pred_y\n",
    "true_neg = ~true_y & ~pred_y\n",
    "false_pos = ~true_y & pred_y\n",
    "false_neg = true_y & ~pred_y"
   ]
  },
  {
   "cell_type": "code",
   "execution_count": 19,
   "id": "b7c17621",
   "metadata": {
    "execution": {
     "iopub.execute_input": "2022-08-30T16:25:48.863705Z",
     "iopub.status.busy": "2022-08-30T16:25:48.863006Z",
     "iopub.status.idle": "2022-08-30T16:25:48.881267Z",
     "shell.execute_reply": "2022-08-30T16:25:48.880437Z"
    },
    "papermill": {
     "duration": 0.07409,
     "end_time": "2022-08-30T16:25:48.883694",
     "exception": false,
     "start_time": "2022-08-30T16:25:48.809604",
     "status": "completed"
    },
    "tags": []
   },
   "outputs": [
    {
     "data": {
      "text/html": [
       "<div>\n",
       "<style scoped>\n",
       "    .dataframe tbody tr th:only-of-type {\n",
       "        vertical-align: middle;\n",
       "    }\n",
       "\n",
       "    .dataframe tbody tr th {\n",
       "        vertical-align: top;\n",
       "    }\n",
       "\n",
       "    .dataframe thead th {\n",
       "        text-align: right;\n",
       "    }\n",
       "</style>\n",
       "<table border=\"1\" class=\"dataframe\">\n",
       "  <thead>\n",
       "    <tr style=\"text-align: right;\">\n",
       "      <th></th>\n",
       "      <th>Yhat = 1</th>\n",
       "      <th>Yhat = 0</th>\n",
       "    </tr>\n",
       "  </thead>\n",
       "  <tbody>\n",
       "    <tr>\n",
       "      <th>Y = 1</th>\n",
       "      <td>233</td>\n",
       "      <td>107</td>\n",
       "    </tr>\n",
       "    <tr>\n",
       "      <th>Y = 0</th>\n",
       "      <td>74</td>\n",
       "      <td>475</td>\n",
       "    </tr>\n",
       "  </tbody>\n",
       "</table>\n",
       "</div>"
      ],
      "text/plain": [
       "       Yhat = 1  Yhat = 0\n",
       "Y = 1       233       107\n",
       "Y = 0        74       475"
      ]
     },
     "execution_count": 19,
     "metadata": {},
     "output_type": "execute_result"
    }
   ],
   "source": [
    "conf_mat = pd.DataFrame([[np.sum(true_pos), np.sum(false_neg)],\n",
    "[np.sum(false_pos), np.sum(true_neg)]],\n",
    "index=['Y = 1', 'Y = 0'],\n",
    "columns=['Yhat = 1', 'Yhat = 0'])\n",
    "conf_mat"
   ]
  },
  {
   "cell_type": "code",
   "execution_count": 20,
   "id": "c9b09d6e",
   "metadata": {
    "execution": {
     "iopub.execute_input": "2022-08-30T16:25:48.924765Z",
     "iopub.status.busy": "2022-08-30T16:25:48.923929Z",
     "iopub.status.idle": "2022-08-30T16:25:48.929134Z",
     "shell.execute_reply": "2022-08-30T16:25:48.928391Z"
    },
    "papermill": {
     "duration": 0.028351,
     "end_time": "2022-08-30T16:25:48.931426",
     "exception": false,
     "start_time": "2022-08-30T16:25:48.903075",
     "status": "completed"
    },
    "tags": []
   },
   "outputs": [],
   "source": [
    "from sklearn.metrics import confusion_matrix"
   ]
  },
  {
   "cell_type": "code",
   "execution_count": 21,
   "id": "550f72e0",
   "metadata": {
    "execution": {
     "iopub.execute_input": "2022-08-30T16:25:48.972338Z",
     "iopub.status.busy": "2022-08-30T16:25:48.971568Z",
     "iopub.status.idle": "2022-08-30T16:25:48.988158Z",
     "shell.execute_reply": "2022-08-30T16:25:48.986489Z"
    },
    "papermill": {
     "duration": 0.042648,
     "end_time": "2022-08-30T16:25:48.993367",
     "exception": false,
     "start_time": "2022-08-30T16:25:48.950719",
     "status": "completed"
    },
    "tags": []
   },
   "outputs": [
    {
     "name": "stdout",
     "output_type": "stream",
     "text": [
      "Precision= 0.8161512027491409\n",
      "Recall= 0.8652094717668488\n",
      "Specificity= 0.6852941176470588\n"
     ]
    }
   ],
   "source": [
    "conf_mat = confusion_matrix(Y, logit_reg.predict(X))\n",
    "print('Precision=', conf_mat[0, 0] / sum(conf_mat[:, 0]))\n",
    "print('Recall=', conf_mat[0, 0] / sum(conf_mat[0, :]))\n",
    "print('Specificity=', conf_mat[1, 1] / sum(conf_mat[1, :]))"
   ]
  },
  {
   "cell_type": "code",
   "execution_count": null,
   "id": "c8299497",
   "metadata": {
    "papermill": {
     "duration": 0.049907,
     "end_time": "2022-08-30T16:25:49.094195",
     "exception": false,
     "start_time": "2022-08-30T16:25:49.044288",
     "status": "completed"
    },
    "tags": []
   },
   "outputs": [],
   "source": []
  },
  {
   "cell_type": "code",
   "execution_count": 22,
   "id": "72d36054",
   "metadata": {
    "execution": {
     "iopub.execute_input": "2022-08-30T16:25:49.140026Z",
     "iopub.status.busy": "2022-08-30T16:25:49.139161Z",
     "iopub.status.idle": "2022-08-30T16:25:49.423939Z",
     "shell.execute_reply": "2022-08-30T16:25:49.422987Z"
    },
    "papermill": {
     "duration": 0.308002,
     "end_time": "2022-08-30T16:25:49.426118",
     "exception": false,
     "start_time": "2022-08-30T16:25:49.118116",
     "status": "completed"
    },
    "tags": []
   },
   "outputs": [
    {
     "data": {
      "text/plain": [
       "Text(0, 0.5, 'recall')"
      ]
     },
     "execution_count": 22,
     "metadata": {},
     "output_type": "execute_result"
    },
    {
     "data": {
      "image/png": "[encoded data removed]",
      "text/plain": [
       "<Figure size 432x432 with 1 Axes>"
      ]
     },
     "metadata": {},
     "output_type": "display_data"
    }
   ],
   "source": [
    "from sklearn.metrics import roc_curve\n",
    "fpr, tpr, thresholds = roc_curve(Y, logit_reg.predict_proba(X)[:,0], pos_label=1)\n",
    "roc_df = pd.DataFrame({'recall': tpr, 'specificity': 1 - fpr})\n",
    "ax = roc_df.plot(x='specificity', y='recall', figsize=(6, 6), legend=False)\n",
    "ax.set_ylim(0, 1)\n",
    "ax.set_xlim(1, 0)\n",
    "ax.plot((1, 0), (0, 1))\n",
    "ax.set_xlabel('specificity')\n",
    "ax.set_ylabel('recall')"
   ]
  },
  {
   "cell_type": "code",
   "execution_count": 23,
   "id": "e273d630",
   "metadata": {
    "execution": {
     "iopub.execute_input": "2022-08-30T16:25:49.470217Z",
     "iopub.status.busy": "2022-08-30T16:25:49.469450Z",
     "iopub.status.idle": "2022-08-30T16:25:49.479941Z",
     "shell.execute_reply": "2022-08-30T16:25:49.478779Z"
    },
    "papermill": {
     "duration": 0.036073,
     "end_time": "2022-08-30T16:25:49.482446",
     "exception": false,
     "start_time": "2022-08-30T16:25:49.446373",
     "status": "completed"
    },
    "tags": []
   },
   "outputs": [],
   "source": [
    "pred = logit_reg.predict(x_test)\n",
    "pred_y = logit_reg.predict(x_test) == 1\n",
    "true_y = y_test == 1\n",
    "true_pos = true_y & pred_y\n",
    "true_neg = ~true_y & ~pred_y\n",
    "false_pos = ~true_y & pred_y\n",
    "false_neg = true_y & ~pred_y"
   ]
  },
  {
   "cell_type": "code",
   "execution_count": 24,
   "id": "8e381b22",
   "metadata": {
    "execution": {
     "iopub.execute_input": "2022-08-30T16:25:49.524044Z",
     "iopub.status.busy": "2022-08-30T16:25:49.523614Z",
     "iopub.status.idle": "2022-08-30T16:25:49.535383Z",
     "shell.execute_reply": "2022-08-30T16:25:49.534569Z"
    },
    "papermill": {
     "duration": 0.035019,
     "end_time": "2022-08-30T16:25:49.537440",
     "exception": false,
     "start_time": "2022-08-30T16:25:49.502421",
     "status": "completed"
    },
    "tags": []
   },
   "outputs": [
    {
     "data": {
      "text/html": [
       "<div>\n",
       "<style scoped>\n",
       "    .dataframe tbody tr th:only-of-type {\n",
       "        vertical-align: middle;\n",
       "    }\n",
       "\n",
       "    .dataframe tbody tr th {\n",
       "        vertical-align: top;\n",
       "    }\n",
       "\n",
       "    .dataframe thead th {\n",
       "        text-align: right;\n",
       "    }\n",
       "</style>\n",
       "<table border=\"1\" class=\"dataframe\">\n",
       "  <thead>\n",
       "    <tr style=\"text-align: right;\">\n",
       "      <th></th>\n",
       "      <th>Yhat = 1</th>\n",
       "      <th>Yhat = 0</th>\n",
       "    </tr>\n",
       "  </thead>\n",
       "  <tbody>\n",
       "    <tr>\n",
       "      <th>Y = 1</th>\n",
       "      <td>61</td>\n",
       "      <td>30</td>\n",
       "    </tr>\n",
       "    <tr>\n",
       "      <th>Y = 0</th>\n",
       "      <td>24</td>\n",
       "      <td>108</td>\n",
       "    </tr>\n",
       "  </tbody>\n",
       "</table>\n",
       "</div>"
      ],
      "text/plain": [
       "       Yhat = 1  Yhat = 0\n",
       "Y = 1        61        30\n",
       "Y = 0        24       108"
      ]
     },
     "execution_count": 24,
     "metadata": {},
     "output_type": "execute_result"
    }
   ],
   "source": [
    "conf_mat = pd.DataFrame([[np.sum(true_pos), np.sum(false_neg)],\n",
    "[np.sum(false_pos), np.sum(true_neg)]],\n",
    "index=['Y = 1', 'Y = 0'],\n",
    "columns=['Yhat = 1', 'Yhat = 0'])\n",
    "conf_mat"
   ]
  },
  {
   "cell_type": "code",
   "execution_count": 25,
   "id": "ac709080",
   "metadata": {
    "execution": {
     "iopub.execute_input": "2022-08-30T16:25:49.579989Z",
     "iopub.status.busy": "2022-08-30T16:25:49.579003Z",
     "iopub.status.idle": "2022-08-30T16:25:49.589428Z",
     "shell.execute_reply": "2022-08-30T16:25:49.588030Z"
    },
    "papermill": {
     "duration": 0.034009,
     "end_time": "2022-08-30T16:25:49.591596",
     "exception": false,
     "start_time": "2022-08-30T16:25:49.557587",
     "status": "completed"
    },
    "tags": []
   },
   "outputs": [
    {
     "name": "stdout",
     "output_type": "stream",
     "text": [
      "Precision= 0.782608695652174\n",
      "Recall= 0.8181818181818182\n",
      "Specificity= 0.6703296703296703\n"
     ]
    }
   ],
   "source": [
    "conf_mat = confusion_matrix(y_test, logit_reg.predict(x_test))\n",
    "print('Precision=', conf_mat[0, 0] / sum(conf_mat[:, 0]))\n",
    "print('Recall=', conf_mat[0, 0] / sum(conf_mat[0, :]))\n",
    "print('Specificity=', conf_mat[1, 1] / sum(conf_mat[1, :]))"
   ]
  },
  {
   "cell_type": "code",
   "execution_count": 26,
   "id": "e7e4d597",
   "metadata": {
    "execution": {
     "iopub.execute_input": "2022-08-30T16:25:49.634092Z",
     "iopub.status.busy": "2022-08-30T16:25:49.633369Z",
     "iopub.status.idle": "2022-08-30T16:25:49.911046Z",
     "shell.execute_reply": "2022-08-30T16:25:49.909816Z"
    },
    "papermill": {
     "duration": 0.301952,
     "end_time": "2022-08-30T16:25:49.913700",
     "exception": false,
     "start_time": "2022-08-30T16:25:49.611748",
     "status": "completed"
    },
    "tags": []
   },
   "outputs": [
    {
     "data": {
      "text/plain": [
       "Text(0, 0.5, 'recall')"
      ]
     },
     "execution_count": 26,
     "metadata": {},
     "output_type": "execute_result"
    },
    {
     "data": {
      "image/png": "[encoded data removed]",
      "text/plain": [
       "<Figure size 432x432 with 1 Axes>"
      ]
     },
     "metadata": {},
     "output_type": "display_data"
    }
   ],
   "source": [
    "fpr, tpr, thresholds = roc_curve(y_test, logit_reg.predict_proba(x_test)[:,0], pos_label=1)\n",
    "roc_df = pd.DataFrame({'recall': tpr, 'specificity': 1 - fpr})\n",
    "ax = roc_df.plot(x='specificity', y='recall', figsize=(6, 6), legend=False)\n",
    "ax.set_ylim(0, 1)\n",
    "ax.set_xlim(1, 0)\n",
    "ax.plot((1, 0), (0, 1))\n",
    "ax.set_xlabel('specificity')\n",
    "ax.set_ylabel('recall')"
   ]
  },
  {
   "cell_type": "code",
   "execution_count": 27,
   "id": "4e45ea36",
   "metadata": {
    "execution": {
     "iopub.execute_input": "2022-08-30T16:25:49.957488Z",
     "iopub.status.busy": "2022-08-30T16:25:49.956821Z",
     "iopub.status.idle": "2022-08-30T16:25:50.116375Z",
     "shell.execute_reply": "2022-08-30T16:25:50.115189Z"
    },
    "papermill": {
     "duration": 0.184721,
     "end_time": "2022-08-30T16:25:50.119260",
     "exception": false,
     "start_time": "2022-08-30T16:25:49.934539",
     "status": "completed"
    },
    "tags": []
   },
   "outputs": [],
   "source": [
    "from  sklearn.ensemble import RandomForestClassifier "
   ]
  },
  {
   "cell_type": "code",
   "execution_count": 28,
   "id": "f1b9816a",
   "metadata": {
    "execution": {
     "iopub.execute_input": "2022-08-30T16:25:50.163029Z",
     "iopub.status.busy": "2022-08-30T16:25:50.162249Z",
     "iopub.status.idle": "2022-08-30T16:29:13.530740Z",
     "shell.execute_reply": "2022-08-30T16:29:13.529661Z"
    },
    "papermill": {
     "duration": 203.393091,
     "end_time": "2022-08-30T16:29:13.533245",
     "exception": false,
     "start_time": "2022-08-30T16:25:50.140154",
     "status": "completed"
    },
    "tags": []
   },
   "outputs": [
    {
     "data": {
      "text/plain": [
       "<AxesSubplot:xlabel='n'>"
      ]
     },
     "execution_count": 28,
     "metadata": {},
     "output_type": "execute_result"
    },
    {
     "data": {
      "image/png": "[encoded data removed]",
      "text/plain": [
       "<Figure size 360x360 with 1 Axes>"
      ]
     },
     "metadata": {},
     "output_type": "display_data"
    }
   ],
   "source": [
    "n_estimator = list(range(20, 1010, 5))\n",
    "oobScores = []\n",
    "for n in n_estimator:\n",
    "    rf = RandomForestClassifier(n_estimators=n, criterion='entropy',\n",
    "                                max_depth=5, random_state=1, oob_score=True)\n",
    "    rf.fit(X=x_train,y=y_train)\n",
    "    oobScores.append(rf.oob_score_)\n",
    "\n",
    "df = pd.DataFrame({ 'n': n_estimator, 'oobScore': oobScores })\n",
    "df.plot(x='n', y='oobScore',figsize=(5,5))"
   ]
  },
  {
   "cell_type": "code",
   "execution_count": 29,
   "id": "b39f706b",
   "metadata": {
    "execution": {
     "iopub.execute_input": "2022-08-30T16:29:13.577421Z",
     "iopub.status.busy": "2022-08-30T16:29:13.577018Z",
     "iopub.status.idle": "2022-08-30T16:29:13.874087Z",
     "shell.execute_reply": "2022-08-30T16:29:13.873265Z"
    },
    "papermill": {
     "duration": 0.321833,
     "end_time": "2022-08-30T16:29:13.876340",
     "exception": false,
     "start_time": "2022-08-30T16:29:13.554507",
     "status": "completed"
    },
    "tags": []
   },
   "outputs": [
    {
     "data": {
      "text/plain": [
       "<AxesSubplot:xlabel='n'>"
      ]
     },
     "execution_count": 29,
     "metadata": {},
     "output_type": "execute_result"
    },
    {
     "data": {
      "image/png": "[encoded data removed]",
      "text/plain": [
       "<Figure size 720x360 with 1 Axes>"
      ]
     },
     "metadata": {},
     "output_type": "display_data"
    }
   ],
   "source": [
    "df.plot(x='n', y='oobScore',figsize=(10,5))"
   ]
  },
  {
   "cell_type": "code",
   "execution_count": 30,
   "id": "939745d5",
   "metadata": {
    "execution": {
     "iopub.execute_input": "2022-08-30T16:29:13.921934Z",
     "iopub.status.busy": "2022-08-30T16:29:13.921226Z",
     "iopub.status.idle": "2022-08-30T16:29:14.004969Z",
     "shell.execute_reply": "2022-08-30T16:29:14.003891Z"
    },
    "papermill": {
     "duration": 0.109413,
     "end_time": "2022-08-30T16:29:14.007557",
     "exception": false,
     "start_time": "2022-08-30T16:29:13.898144",
     "status": "completed"
    },
    "tags": []
   },
   "outputs": [
    {
     "data": {
      "text/plain": [
       "RandomForestClassifier(n_estimators=30, oob_score=True, random_state=1)"
      ]
     },
     "execution_count": 30,
     "metadata": {},
     "output_type": "execute_result"
    }
   ],
   "source": [
    "rf = RandomForestClassifier(n_estimators=30, random_state=1, oob_score=True)\n",
    "rf.fit(X=x_train,y=y_train)"
   ]
  },
  {
   "cell_type": "code",
   "execution_count": 31,
   "id": "ed55f22d",
   "metadata": {
    "execution": {
     "iopub.execute_input": "2022-08-30T16:29:14.054550Z",
     "iopub.status.busy": "2022-08-30T16:29:14.052828Z",
     "iopub.status.idle": "2022-08-30T16:29:14.081773Z",
     "shell.execute_reply": "2022-08-30T16:29:14.080655Z"
    },
    "papermill": {
     "duration": 0.054612,
     "end_time": "2022-08-30T16:29:14.084440",
     "exception": false,
     "start_time": "2022-08-30T16:29:14.029828",
     "status": "completed"
    },
    "tags": []
   },
   "outputs": [
    {
     "data": {
      "text/html": [
       "<div>\n",
       "<style scoped>\n",
       "    .dataframe tbody tr th:only-of-type {\n",
       "        vertical-align: middle;\n",
       "    }\n",
       "\n",
       "    .dataframe tbody tr th {\n",
       "        vertical-align: top;\n",
       "    }\n",
       "\n",
       "    .dataframe thead th {\n",
       "        text-align: right;\n",
       "    }\n",
       "</style>\n",
       "<table border=\"1\" class=\"dataframe\">\n",
       "  <thead>\n",
       "    <tr style=\"text-align: right;\">\n",
       "      <th></th>\n",
       "      <th>Pclass_2</th>\n",
       "      <th>Pclass_3</th>\n",
       "      <th>Parch_1</th>\n",
       "      <th>Parch_2</th>\n",
       "      <th>Parch_3</th>\n",
       "      <th>Parch_4</th>\n",
       "      <th>Parch_5</th>\n",
       "      <th>Parch_6</th>\n",
       "      <th>SibSp_1</th>\n",
       "      <th>SibSp_2</th>\n",
       "      <th>SibSp_3</th>\n",
       "      <th>SibSp_4</th>\n",
       "      <th>SibSp_5</th>\n",
       "      <th>SibSp_8</th>\n",
       "      <th>Sex_male</th>\n",
       "      <th>Embarked_Q</th>\n",
       "      <th>Embarked_S</th>\n",
       "      <th>Fare</th>\n",
       "      <th>prediction</th>\n",
       "    </tr>\n",
       "  </thead>\n",
       "  <tbody>\n",
       "    <tr>\n",
       "      <th>318</th>\n",
       "      <td>0</td>\n",
       "      <td>0</td>\n",
       "      <td>0</td>\n",
       "      <td>1</td>\n",
       "      <td>0</td>\n",
       "      <td>0</td>\n",
       "      <td>0</td>\n",
       "      <td>0</td>\n",
       "      <td>0</td>\n",
       "      <td>0</td>\n",
       "      <td>0</td>\n",
       "      <td>0</td>\n",
       "      <td>0</td>\n",
       "      <td>0</td>\n",
       "      <td>0</td>\n",
       "      <td>0</td>\n",
       "      <td>1</td>\n",
       "      <td>164.8667</td>\n",
       "      <td>1</td>\n",
       "    </tr>\n",
       "    <tr>\n",
       "      <th>705</th>\n",
       "      <td>1</td>\n",
       "      <td>0</td>\n",
       "      <td>0</td>\n",
       "      <td>0</td>\n",
       "      <td>0</td>\n",
       "      <td>0</td>\n",
       "      <td>0</td>\n",
       "      <td>0</td>\n",
       "      <td>0</td>\n",
       "      <td>0</td>\n",
       "      <td>0</td>\n",
       "      <td>0</td>\n",
       "      <td>0</td>\n",
       "      <td>0</td>\n",
       "      <td>1</td>\n",
       "      <td>0</td>\n",
       "      <td>1</td>\n",
       "      <td>26.0000</td>\n",
       "      <td>0</td>\n",
       "    </tr>\n",
       "    <tr>\n",
       "      <th>347</th>\n",
       "      <td>0</td>\n",
       "      <td>1</td>\n",
       "      <td>0</td>\n",
       "      <td>0</td>\n",
       "      <td>0</td>\n",
       "      <td>0</td>\n",
       "      <td>0</td>\n",
       "      <td>0</td>\n",
       "      <td>1</td>\n",
       "      <td>0</td>\n",
       "      <td>0</td>\n",
       "      <td>0</td>\n",
       "      <td>0</td>\n",
       "      <td>0</td>\n",
       "      <td>0</td>\n",
       "      <td>0</td>\n",
       "      <td>1</td>\n",
       "      <td>16.1000</td>\n",
       "      <td>1</td>\n",
       "    </tr>\n",
       "    <tr>\n",
       "      <th>490</th>\n",
       "      <td>0</td>\n",
       "      <td>1</td>\n",
       "      <td>0</td>\n",
       "      <td>0</td>\n",
       "      <td>0</td>\n",
       "      <td>0</td>\n",
       "      <td>0</td>\n",
       "      <td>0</td>\n",
       "      <td>1</td>\n",
       "      <td>0</td>\n",
       "      <td>0</td>\n",
       "      <td>0</td>\n",
       "      <td>0</td>\n",
       "      <td>0</td>\n",
       "      <td>1</td>\n",
       "      <td>0</td>\n",
       "      <td>1</td>\n",
       "      <td>19.9667</td>\n",
       "      <td>0</td>\n",
       "    </tr>\n",
       "    <tr>\n",
       "      <th>441</th>\n",
       "      <td>0</td>\n",
       "      <td>1</td>\n",
       "      <td>0</td>\n",
       "      <td>0</td>\n",
       "      <td>0</td>\n",
       "      <td>0</td>\n",
       "      <td>0</td>\n",
       "      <td>0</td>\n",
       "      <td>0</td>\n",
       "      <td>0</td>\n",
       "      <td>0</td>\n",
       "      <td>0</td>\n",
       "      <td>0</td>\n",
       "      <td>0</td>\n",
       "      <td>1</td>\n",
       "      <td>0</td>\n",
       "      <td>1</td>\n",
       "      <td>9.5000</td>\n",
       "      <td>0</td>\n",
       "    </tr>\n",
       "  </tbody>\n",
       "</table>\n",
       "</div>"
      ],
      "text/plain": [
       "     Pclass_2  Pclass_3  Parch_1  Parch_2  Parch_3  Parch_4  Parch_5  Parch_6  \\\n",
       "318         0         0        0        1        0        0        0        0   \n",
       "705         1         0        0        0        0        0        0        0   \n",
       "347         0         1        0        0        0        0        0        0   \n",
       "490         0         1        0        0        0        0        0        0   \n",
       "441         0         1        0        0        0        0        0        0   \n",
       "\n",
       "     SibSp_1  SibSp_2  SibSp_3  SibSp_4  SibSp_5  SibSp_8  Sex_male  \\\n",
       "318        0        0        0        0        0        0         0   \n",
       "705        0        0        0        0        0        0         1   \n",
       "347        1        0        0        0        0        0         0   \n",
       "490        1        0        0        0        0        0         1   \n",
       "441        0        0        0        0        0        0         1   \n",
       "\n",
       "     Embarked_Q  Embarked_S      Fare  prediction  \n",
       "318           0           1  164.8667           1  \n",
       "705           0           1   26.0000           0  \n",
       "347           0           1   16.1000           1  \n",
       "490           0           1   19.9667           0  \n",
       "441           0           1    9.5000           0  "
      ]
     },
     "execution_count": 31,
     "metadata": {},
     "output_type": "execute_result"
    }
   ],
   "source": [
    "predictions = x_train.copy()\n",
    "predictions['prediction'] = rf.predict(x_train)\n",
    "predictions.head()\n"
   ]
  },
  {
   "cell_type": "code",
   "execution_count": 32,
   "id": "341604ce",
   "metadata": {
    "execution": {
     "iopub.execute_input": "2022-08-30T16:29:14.130594Z",
     "iopub.status.busy": "2022-08-30T16:29:14.130178Z",
     "iopub.status.idle": "2022-08-30T16:29:14.138612Z",
     "shell.execute_reply": "2022-08-30T16:29:14.137569Z"
    },
    "papermill": {
     "duration": 0.034145,
     "end_time": "2022-08-30T16:29:14.140736",
     "exception": false,
     "start_time": "2022-08-30T16:29:14.106591",
     "status": "completed"
    },
    "tags": []
   },
   "outputs": [
    {
     "data": {
      "text/plain": [
       "array([[403,  14],\n",
       "       [ 30, 219]])"
      ]
     },
     "execution_count": 32,
     "metadata": {},
     "output_type": "execute_result"
    }
   ],
   "source": [
    "#confusion matrix\n",
    "y_hat=predictions['prediction']\n",
    "conf_mat_rf=confusion_matrix(y_true=y_train ,y_pred=y_hat)\n",
    "conf_mat_rf"
   ]
  },
  {
   "cell_type": "code",
   "execution_count": 33,
   "id": "16c4a661",
   "metadata": {
    "execution": {
     "iopub.execute_input": "2022-08-30T16:29:14.186948Z",
     "iopub.status.busy": "2022-08-30T16:29:14.186283Z",
     "iopub.status.idle": "2022-08-30T16:29:14.193784Z",
     "shell.execute_reply": "2022-08-30T16:29:14.192294Z"
    },
    "papermill": {
     "duration": 0.033532,
     "end_time": "2022-08-30T16:29:14.196204",
     "exception": false,
     "start_time": "2022-08-30T16:29:14.162672",
     "status": "completed"
    },
    "tags": []
   },
   "outputs": [
    {
     "name": "stdout",
     "output_type": "stream",
     "text": [
      "Precision= 0.930715935334873\n",
      "Recall= 0.9664268585131894\n",
      "Specificity= 0.8795180722891566\n"
     ]
    }
   ],
   "source": [
    "print('Precision=', conf_mat_rf[0, 0] / sum(conf_mat_rf[:, 0]))\n",
    "print('Recall=', conf_mat_rf[0, 0] / sum(conf_mat_rf[0, :]))\n",
    "print('Specificity=', conf_mat_rf[1, 1] / sum(conf_mat_rf[1, :]))"
   ]
  },
  {
   "cell_type": "code",
   "execution_count": 34,
   "id": "d6345058",
   "metadata": {
    "execution": {
     "iopub.execute_input": "2022-08-30T16:29:14.242274Z",
     "iopub.status.busy": "2022-08-30T16:29:14.241262Z",
     "iopub.status.idle": "2022-08-30T16:29:14.247278Z",
     "shell.execute_reply": "2022-08-30T16:29:14.246428Z"
    },
    "papermill": {
     "duration": 0.031203,
     "end_time": "2022-08-30T16:29:14.249468",
     "exception": false,
     "start_time": "2022-08-30T16:29:14.218265",
     "status": "completed"
    },
    "tags": []
   },
   "outputs": [],
   "source": [
    "import matplotlib.pyplot as plt\n",
    "def plot_roc_curve(fpr, tpr, label=None):\n",
    "    plt.plot(fpr, tpr, linewidth=2, label=label)\n",
    "    plt.plot([0, 1], [0, 1], 'k--') # Dashed diagonal\n",
    "    [...]"
   ]
  },
  {
   "cell_type": "code",
   "execution_count": 35,
   "id": "35db5b35",
   "metadata": {
    "execution": {
     "iopub.execute_input": "2022-08-30T16:29:14.296095Z",
     "iopub.status.busy": "2022-08-30T16:29:14.294910Z",
     "iopub.status.idle": "2022-08-30T16:29:14.532405Z",
     "shell.execute_reply": "2022-08-30T16:29:14.531166Z"
    },
    "papermill": {
     "duration": 0.26364,
     "end_time": "2022-08-30T16:29:14.535103",
     "exception": false,
     "start_time": "2022-08-30T16:29:14.271463",
     "status": "completed"
    },
    "tags": []
   },
   "outputs": [
    {
     "data": {
      "image/png": "[encoded data removed]",
      "text/plain": [
       "<Figure size 432x288 with 1 Axes>"
      ]
     },
     "metadata": {},
     "output_type": "display_data"
    }
   ],
   "source": [
    "y_hat=predictions['prediction']\n",
    "fpr_forest, tpr_forest, thresholds_forest = roc_curve(y_train,y_hat)\n",
    "plot_roc_curve(fpr_forest, tpr_forest, \"Random Forest\")\n",
    "plt.show()"
   ]
  },
  {
   "cell_type": "code",
   "execution_count": 36,
   "id": "8623f5c5",
   "metadata": {
    "execution": {
     "iopub.execute_input": "2022-08-30T16:29:14.582270Z",
     "iopub.status.busy": "2022-08-30T16:29:14.581482Z",
     "iopub.status.idle": "2022-08-30T16:29:14.606582Z",
     "shell.execute_reply": "2022-08-30T16:29:14.605435Z"
    },
    "papermill": {
     "duration": 0.05136,
     "end_time": "2022-08-30T16:29:14.608999",
     "exception": false,
     "start_time": "2022-08-30T16:29:14.557639",
     "status": "completed"
    },
    "tags": []
   },
   "outputs": [
    {
     "data": {
      "text/html": [
       "<div>\n",
       "<style scoped>\n",
       "    .dataframe tbody tr th:only-of-type {\n",
       "        vertical-align: middle;\n",
       "    }\n",
       "\n",
       "    .dataframe tbody tr th {\n",
       "        vertical-align: top;\n",
       "    }\n",
       "\n",
       "    .dataframe thead th {\n",
       "        text-align: right;\n",
       "    }\n",
       "</style>\n",
       "<table border=\"1\" class=\"dataframe\">\n",
       "  <thead>\n",
       "    <tr style=\"text-align: right;\">\n",
       "      <th></th>\n",
       "      <th>Pclass_2</th>\n",
       "      <th>Pclass_3</th>\n",
       "      <th>Parch_1</th>\n",
       "      <th>Parch_2</th>\n",
       "      <th>Parch_3</th>\n",
       "      <th>Parch_4</th>\n",
       "      <th>Parch_5</th>\n",
       "      <th>Parch_6</th>\n",
       "      <th>SibSp_1</th>\n",
       "      <th>SibSp_2</th>\n",
       "      <th>SibSp_3</th>\n",
       "      <th>SibSp_4</th>\n",
       "      <th>SibSp_5</th>\n",
       "      <th>SibSp_8</th>\n",
       "      <th>Sex_male</th>\n",
       "      <th>Embarked_Q</th>\n",
       "      <th>Embarked_S</th>\n",
       "      <th>Fare</th>\n",
       "      <th>prediction</th>\n",
       "    </tr>\n",
       "  </thead>\n",
       "  <tbody>\n",
       "    <tr>\n",
       "      <th>14</th>\n",
       "      <td>0</td>\n",
       "      <td>1</td>\n",
       "      <td>0</td>\n",
       "      <td>0</td>\n",
       "      <td>0</td>\n",
       "      <td>0</td>\n",
       "      <td>0</td>\n",
       "      <td>0</td>\n",
       "      <td>0</td>\n",
       "      <td>0</td>\n",
       "      <td>0</td>\n",
       "      <td>0</td>\n",
       "      <td>0</td>\n",
       "      <td>0</td>\n",
       "      <td>0</td>\n",
       "      <td>0</td>\n",
       "      <td>1</td>\n",
       "      <td>7.8542</td>\n",
       "      <td>1</td>\n",
       "    </tr>\n",
       "    <tr>\n",
       "      <th>159</th>\n",
       "      <td>0</td>\n",
       "      <td>1</td>\n",
       "      <td>0</td>\n",
       "      <td>1</td>\n",
       "      <td>0</td>\n",
       "      <td>0</td>\n",
       "      <td>0</td>\n",
       "      <td>0</td>\n",
       "      <td>0</td>\n",
       "      <td>0</td>\n",
       "      <td>0</td>\n",
       "      <td>0</td>\n",
       "      <td>0</td>\n",
       "      <td>1</td>\n",
       "      <td>1</td>\n",
       "      <td>0</td>\n",
       "      <td>1</td>\n",
       "      <td>69.5500</td>\n",
       "      <td>0</td>\n",
       "    </tr>\n",
       "    <tr>\n",
       "      <th>763</th>\n",
       "      <td>0</td>\n",
       "      <td>0</td>\n",
       "      <td>0</td>\n",
       "      <td>1</td>\n",
       "      <td>0</td>\n",
       "      <td>0</td>\n",
       "      <td>0</td>\n",
       "      <td>0</td>\n",
       "      <td>1</td>\n",
       "      <td>0</td>\n",
       "      <td>0</td>\n",
       "      <td>0</td>\n",
       "      <td>0</td>\n",
       "      <td>0</td>\n",
       "      <td>0</td>\n",
       "      <td>0</td>\n",
       "      <td>1</td>\n",
       "      <td>120.0000</td>\n",
       "      <td>1</td>\n",
       "    </tr>\n",
       "    <tr>\n",
       "      <th>741</th>\n",
       "      <td>0</td>\n",
       "      <td>0</td>\n",
       "      <td>0</td>\n",
       "      <td>0</td>\n",
       "      <td>0</td>\n",
       "      <td>0</td>\n",
       "      <td>0</td>\n",
       "      <td>0</td>\n",
       "      <td>1</td>\n",
       "      <td>0</td>\n",
       "      <td>0</td>\n",
       "      <td>0</td>\n",
       "      <td>0</td>\n",
       "      <td>0</td>\n",
       "      <td>1</td>\n",
       "      <td>0</td>\n",
       "      <td>1</td>\n",
       "      <td>78.8500</td>\n",
       "      <td>0</td>\n",
       "    </tr>\n",
       "    <tr>\n",
       "      <th>483</th>\n",
       "      <td>0</td>\n",
       "      <td>1</td>\n",
       "      <td>0</td>\n",
       "      <td>0</td>\n",
       "      <td>0</td>\n",
       "      <td>0</td>\n",
       "      <td>0</td>\n",
       "      <td>0</td>\n",
       "      <td>0</td>\n",
       "      <td>0</td>\n",
       "      <td>0</td>\n",
       "      <td>0</td>\n",
       "      <td>0</td>\n",
       "      <td>0</td>\n",
       "      <td>0</td>\n",
       "      <td>0</td>\n",
       "      <td>1</td>\n",
       "      <td>9.5875</td>\n",
       "      <td>0</td>\n",
       "    </tr>\n",
       "  </tbody>\n",
       "</table>\n",
       "</div>"
      ],
      "text/plain": [
       "     Pclass_2  Pclass_3  Parch_1  Parch_2  Parch_3  Parch_4  Parch_5  Parch_6  \\\n",
       "14          0         1        0        0        0        0        0        0   \n",
       "159         0         1        0        1        0        0        0        0   \n",
       "763         0         0        0        1        0        0        0        0   \n",
       "741         0         0        0        0        0        0        0        0   \n",
       "483         0         1        0        0        0        0        0        0   \n",
       "\n",
       "     SibSp_1  SibSp_2  SibSp_3  SibSp_4  SibSp_5  SibSp_8  Sex_male  \\\n",
       "14         0        0        0        0        0        0         0   \n",
       "159        0        0        0        0        0        1         1   \n",
       "763        1        0        0        0        0        0         0   \n",
       "741        1        0        0        0        0        0         1   \n",
       "483        0        0        0        0        0        0         0   \n",
       "\n",
       "     Embarked_Q  Embarked_S      Fare  prediction  \n",
       "14            0           1    7.8542           1  \n",
       "159           0           1   69.5500           0  \n",
       "763           0           1  120.0000           1  \n",
       "741           0           1   78.8500           0  \n",
       "483           0           1    9.5875           0  "
      ]
     },
     "execution_count": 36,
     "metadata": {},
     "output_type": "execute_result"
    }
   ],
   "source": [
    "predictions_test = x_test.copy()\n",
    "predictions_test['prediction'] = rf.predict(x_test)\n",
    "predictions_test.head()"
   ]
  },
  {
   "cell_type": "code",
   "execution_count": 37,
   "id": "a2e0b832",
   "metadata": {
    "execution": {
     "iopub.execute_input": "2022-08-30T16:29:14.656573Z",
     "iopub.status.busy": "2022-08-30T16:29:14.655814Z",
     "iopub.status.idle": "2022-08-30T16:29:14.664684Z",
     "shell.execute_reply": "2022-08-30T16:29:14.663780Z"
    },
    "papermill": {
     "duration": 0.035396,
     "end_time": "2022-08-30T16:29:14.666950",
     "exception": false,
     "start_time": "2022-08-30T16:29:14.631554",
     "status": "completed"
    },
    "tags": []
   },
   "outputs": [
    {
     "data": {
      "text/plain": [
       "array([[115,  17],\n",
       "       [ 30,  61]])"
      ]
     },
     "execution_count": 37,
     "metadata": {},
     "output_type": "execute_result"
    }
   ],
   "source": [
    "y_hat=predictions_test['prediction']\n",
    "conf_mat_rft=confusion_matrix(y_true=y_test ,y_pred=y_hat)\n",
    "conf_mat_rft"
   ]
  },
  {
   "cell_type": "code",
   "execution_count": 38,
   "id": "b4b95be9",
   "metadata": {
    "execution": {
     "iopub.execute_input": "2022-08-30T16:29:14.714708Z",
     "iopub.status.busy": "2022-08-30T16:29:14.713923Z",
     "iopub.status.idle": "2022-08-30T16:29:14.721775Z",
     "shell.execute_reply": "2022-08-30T16:29:14.720316Z"
    },
    "papermill": {
     "duration": 0.034949,
     "end_time": "2022-08-30T16:29:14.724567",
     "exception": false,
     "start_time": "2022-08-30T16:29:14.689618",
     "status": "completed"
    },
    "tags": []
   },
   "outputs": [
    {
     "name": "stdout",
     "output_type": "stream",
     "text": [
      "Precision= 0.7931034482758621\n",
      "Recall= 0.8712121212121212\n",
      "Specificity= 0.6703296703296703\n"
     ]
    }
   ],
   "source": [
    "print('Precision=', conf_mat_rft[0, 0] / sum(conf_mat_rft[:, 0]))\n",
    "print('Recall=', conf_mat_rft[0, 0] / sum(conf_mat_rft[0, :]))\n",
    "print('Specificity=', conf_mat_rft[1, 1] / sum(conf_mat_rft[1, :]))"
   ]
  },
  {
   "cell_type": "markdown",
   "id": "47a5802d",
   "metadata": {
    "papermill": {
     "duration": 0.022418,
     "end_time": "2022-08-30T16:29:14.770523",
     "exception": false,
     "start_time": "2022-08-30T16:29:14.748105",
     "status": "completed"
    },
    "tags": []
   },
   "source": [
    "**Cross Validation**"
   ]
  },
  {
   "cell_type": "code",
   "execution_count": 39,
   "id": "766dfe83",
   "metadata": {
    "execution": {
     "iopub.execute_input": "2022-08-30T16:29:14.818082Z",
     "iopub.status.busy": "2022-08-30T16:29:14.817434Z",
     "iopub.status.idle": "2022-08-30T16:29:14.822934Z",
     "shell.execute_reply": "2022-08-30T16:29:14.822038Z"
    },
    "papermill": {
     "duration": 0.031949,
     "end_time": "2022-08-30T16:29:14.825147",
     "exception": false,
     "start_time": "2022-08-30T16:29:14.793198",
     "status": "completed"
    },
    "tags": []
   },
   "outputs": [],
   "source": [
    "from collections import defaultdict\n",
    "rf = RandomForestClassifier(n_estimators=45)\n",
    "scores = defaultdict(list)"
   ]
  },
  {
   "cell_type": "code",
   "execution_count": 40,
   "id": "e2ef3b58",
   "metadata": {
    "execution": {
     "iopub.execute_input": "2022-08-30T16:29:14.873631Z",
     "iopub.status.busy": "2022-08-30T16:29:14.872867Z",
     "iopub.status.idle": "2022-08-30T16:29:25.580394Z",
     "shell.execute_reply": "2022-08-30T16:29:25.579091Z"
    },
    "papermill": {
     "duration": 10.735075,
     "end_time": "2022-08-30T16:29:25.583237",
     "exception": false,
     "start_time": "2022-08-30T16:29:14.848162",
     "status": "completed"
    },
    "tags": []
   },
   "outputs": [],
   "source": [
    "from sklearn.metrics import accuracy_score\n",
    "for _ in range(3):\n",
    "    train_X, valid_X, train_y, valid_y = train_test_split(X,Y, test_size=0.3)\n",
    "    rf.fit(train_X, train_y)\n",
    "    acc = accuracy_score(valid_y, rf.predict(valid_X))\n",
    "    for column in X.columns:\n",
    "        X_t = valid_X.copy()\n",
    "        X_t[column] = np.random.permutation(X_t[column].values)\n",
    "        for column in X.columns:\n",
    "            X_t = valid_X.copy()\n",
    "            X_t[column] = np.random.permutation(X_t[column].values)\n",
    "            shuff_acc = accuracy_score(valid_y, rf.predict(X_t))\n",
    "            scores[column].append((acc-shuff_acc)/acc)"
   ]
  },
  {
   "cell_type": "code",
   "execution_count": 41,
   "id": "fbbeb21d",
   "metadata": {
    "execution": {
     "iopub.execute_input": "2022-08-30T16:29:25.634070Z",
     "iopub.status.busy": "2022-08-30T16:29:25.632911Z",
     "iopub.status.idle": "2022-08-30T16:29:26.179584Z",
     "shell.execute_reply": "2022-08-30T16:29:26.177007Z"
    },
    "papermill": {
     "duration": 0.574944,
     "end_time": "2022-08-30T16:29:26.182511",
     "exception": false,
     "start_time": "2022-08-30T16:29:25.607567",
     "status": "completed"
    },
    "tags": []
   },
   "outputs": [
    {
     "data": {
      "image/png": "[encoded data removed]",
      "text/plain": [
       "<Figure size 576x324 with 2 Axes>"
      ]
     },
     "metadata": {},
     "output_type": "display_data"
    }
   ],
   "source": [
    "df = pd.DataFrame({\n",
    "    'feature': X.columns,\n",
    "    'Accuracy decrease': [np.mean(scores[column]) for column in X.columns],\n",
    "    'Gini decrease': rf.feature_importances_,\n",
    "})\n",
    "df = df.sort_values('Accuracy decrease')\n",
    "fig, axes = plt.subplots(ncols=2, figsize=(8, 4.5))\n",
    "ax = df.plot(kind='barh', x='feature', y='Accuracy decrease',\n",
    "             legend=False, ax=axes[0])\n",
    "ax.set_ylabel('')\n",
    "ax = df.plot(kind='barh', x='feature', y='Gini decrease',\n",
    "             legend=False, ax=axes[1])\n",
    "ax.set_ylabel('')\n",
    "ax.get_yaxis().set_visible(False)"
   ]
  },
  {
   "cell_type": "code",
   "execution_count": 42,
   "id": "e1ede964",
   "metadata": {
    "execution": {
     "iopub.execute_input": "2022-08-30T16:29:26.231763Z",
     "iopub.status.busy": "2022-08-30T16:29:26.230988Z",
     "iopub.status.idle": "2022-08-30T16:29:26.238890Z",
     "shell.execute_reply": "2022-08-30T16:29:26.237777Z"
    },
    "papermill": {
     "duration": 0.03565,
     "end_time": "2022-08-30T16:29:26.241523",
     "exception": false,
     "start_time": "2022-08-30T16:29:26.205873",
     "status": "completed"
    },
    "tags": []
   },
   "outputs": [],
   "source": [
    "from sklearn.model_selection import train_test_split\n",
    "x_train_, x_valid_, y_train_, y_valid_ = train_test_split(x_train,y_train, \n",
    "                                                          test_size=.25,random_state=41)"
   ]
  },
  {
   "cell_type": "code",
   "execution_count": 43,
   "id": "9caac8c0",
   "metadata": {
    "execution": {
     "iopub.execute_input": "2022-08-30T16:29:26.292580Z",
     "iopub.status.busy": "2022-08-30T16:29:26.291720Z",
     "iopub.status.idle": "2022-08-30T16:29:33.044103Z",
     "shell.execute_reply": "2022-08-30T16:29:33.042280Z"
    },
    "papermill": {
     "duration": 6.781464,
     "end_time": "2022-08-30T16:29:33.047167",
     "exception": false,
     "start_time": "2022-08-30T16:29:26.265703",
     "status": "completed"
    },
    "tags": []
   },
   "outputs": [
    {
     "name": "stderr",
     "output_type": "stream",
     "text": [
      "2022-08-30 16:29:32.950654: I tensorflow/core/common_runtime/process_util.cc:146] Creating new thread pool with default inter op setting: 2. Tune using inter_op_parallelism_threads for best performance.\n"
     ]
    }
   ],
   "source": [
    "import tensorflow as tf\n",
    "from sklearn.model_selection import cross_val_score\n",
    "\n",
    "class myCallback(tf.keras.callbacks.Callback):\n",
    "    def on_epoch_end(self, epoch, logs={}):\n",
    "        if(logs.get('accuracy')>0.99):\n",
    "            print(\"\\nReached 99% accuracy so cancelling training!\")\n",
    "            self.model.stop_training = True\n",
    "\n",
    "callbacks=myCallback()\n",
    "\n",
    "model=tf.keras.models.Sequential([\n",
    "     tf.keras.layers.Dense(18,input_shape=[18], activation=tf.nn.relu),\n",
    "     tf.keras.layers.Dense(128, activation=tf.nn.relu),\n",
    "     tf.keras.layers.Dense(1, activation=tf.nn.sigmoid)   \n",
    "    ])\n",
    "\n",
    "model.compile(optimizer='adam',\n",
    "              loss='binary_crossentropy',\n",
    "              metrics=['binary_accuracy']\n",
    "             )"
   ]
  },
  {
   "cell_type": "code",
   "execution_count": 44,
   "id": "57272fa5",
   "metadata": {
    "execution": {
     "iopub.execute_input": "2022-08-30T16:29:33.096726Z",
     "iopub.status.busy": "2022-08-30T16:29:33.096173Z",
     "iopub.status.idle": "2022-08-30T16:29:46.244791Z",
     "shell.execute_reply": "2022-08-30T16:29:46.243311Z"
    },
    "papermill": {
     "duration": 13.176873,
     "end_time": "2022-08-30T16:29:46.247756",
     "exception": false,
     "start_time": "2022-08-30T16:29:33.070883",
     "status": "completed"
    },
    "tags": []
   },
   "outputs": [
    {
     "name": "stderr",
     "output_type": "stream",
     "text": [
      "2022-08-30 16:29:33.208873: I tensorflow/compiler/mlir/mlir_graph_optimization_pass.cc:185] None of the MLIR Optimization Passes are enabled (registered 2)\n"
     ]
    },
    {
     "name": "stdout",
     "output_type": "stream",
     "text": [
      "Epoch 1/100\n",
      "34/34 [==============================] - 1s 10ms/step - loss: 0.7479 - binary_accuracy: 0.6411 - val_loss: 0.6467 - val_binary_accuracy: 0.6347\n",
      "Epoch 2/100\n",
      "34/34 [==============================] - 0s 4ms/step - loss: 0.6149 - binary_accuracy: 0.6652 - val_loss: 0.5958 - val_binary_accuracy: 0.7066\n",
      "Epoch 3/100\n",
      "34/34 [==============================] - 0s 4ms/step - loss: 0.6417 - binary_accuracy: 0.6772 - val_loss: 0.5736 - val_binary_accuracy: 0.7066\n",
      "Epoch 4/100\n",
      "34/34 [==============================] - 0s 4ms/step - loss: 0.5728 - binary_accuracy: 0.6982 - val_loss: 0.5550 - val_binary_accuracy: 0.7126\n",
      "Epoch 5/100\n",
      "34/34 [==============================] - 0s 3ms/step - loss: 0.5517 - binary_accuracy: 0.7027 - val_loss: 0.5472 - val_binary_accuracy: 0.7485\n",
      "Epoch 6/100\n",
      "34/34 [==============================] - 0s 3ms/step - loss: 0.5537 - binary_accuracy: 0.7087 - val_loss: 0.5135 - val_binary_accuracy: 0.7186\n",
      "Epoch 7/100\n",
      "34/34 [==============================] - 0s 4ms/step - loss: 0.5402 - binary_accuracy: 0.7237 - val_loss: 0.5209 - val_binary_accuracy: 0.7665\n",
      "Epoch 8/100\n",
      "34/34 [==============================] - 0s 3ms/step - loss: 0.5291 - binary_accuracy: 0.7312 - val_loss: 0.5027 - val_binary_accuracy: 0.7365\n",
      "Epoch 9/100\n",
      "34/34 [==============================] - 0s 4ms/step - loss: 0.5053 - binary_accuracy: 0.7673 - val_loss: 0.4690 - val_binary_accuracy: 0.7725\n",
      "Epoch 10/100\n",
      "34/34 [==============================] - 0s 3ms/step - loss: 0.4989 - binary_accuracy: 0.7748 - val_loss: 0.4562 - val_binary_accuracy: 0.8024\n",
      "Epoch 11/100\n",
      "34/34 [==============================] - 0s 3ms/step - loss: 0.5155 - binary_accuracy: 0.7538 - val_loss: 0.4804 - val_binary_accuracy: 0.8204\n",
      "Epoch 12/100\n",
      "34/34 [==============================] - 0s 3ms/step - loss: 0.4883 - binary_accuracy: 0.7913 - val_loss: 0.4785 - val_binary_accuracy: 0.8144\n",
      "Epoch 13/100\n",
      "34/34 [==============================] - 0s 3ms/step - loss: 0.4988 - binary_accuracy: 0.8108 - val_loss: 0.4499 - val_binary_accuracy: 0.8144\n",
      "Epoch 14/100\n",
      "34/34 [==============================] - 0s 3ms/step - loss: 0.4915 - binary_accuracy: 0.7958 - val_loss: 0.4275 - val_binary_accuracy: 0.8323\n",
      "Epoch 15/100\n",
      "34/34 [==============================] - 0s 3ms/step - loss: 0.4705 - binary_accuracy: 0.8003 - val_loss: 0.4336 - val_binary_accuracy: 0.8503\n",
      "Epoch 16/100\n",
      "34/34 [==============================] - 0s 3ms/step - loss: 0.4737 - binary_accuracy: 0.8018 - val_loss: 0.4494 - val_binary_accuracy: 0.8383\n",
      "Epoch 17/100\n",
      "34/34 [==============================] - 0s 3ms/step - loss: 0.4934 - binary_accuracy: 0.7898 - val_loss: 0.4227 - val_binary_accuracy: 0.8263\n",
      "Epoch 18/100\n",
      "34/34 [==============================] - 0s 3ms/step - loss: 0.4674 - binary_accuracy: 0.8168 - val_loss: 0.4165 - val_binary_accuracy: 0.8323\n",
      "Epoch 19/100\n",
      "34/34 [==============================] - 0s 3ms/step - loss: 0.4650 - binary_accuracy: 0.8003 - val_loss: 0.4269 - val_binary_accuracy: 0.8263\n",
      "Epoch 20/100\n",
      "34/34 [==============================] - 0s 3ms/step - loss: 0.4667 - binary_accuracy: 0.8078 - val_loss: 0.4130 - val_binary_accuracy: 0.8204\n",
      "Epoch 21/100\n",
      "34/34 [==============================] - 0s 3ms/step - loss: 0.4661 - binary_accuracy: 0.8033 - val_loss: 0.4087 - val_binary_accuracy: 0.8383\n",
      "Epoch 22/100\n",
      "34/34 [==============================] - 0s 10ms/step - loss: 0.4777 - binary_accuracy: 0.7943 - val_loss: 0.4791 - val_binary_accuracy: 0.8263\n",
      "Epoch 23/100\n",
      "34/34 [==============================] - 0s 10ms/step - loss: 0.4873 - binary_accuracy: 0.7943 - val_loss: 0.4099 - val_binary_accuracy: 0.8383\n",
      "Epoch 24/100\n",
      "34/34 [==============================] - 0s 6ms/step - loss: 0.4664 - binary_accuracy: 0.8048 - val_loss: 0.4055 - val_binary_accuracy: 0.8263\n",
      "Epoch 25/100\n",
      "34/34 [==============================] - 0s 4ms/step - loss: 0.4644 - binary_accuracy: 0.8108 - val_loss: 0.4112 - val_binary_accuracy: 0.8024\n",
      "Epoch 26/100\n",
      "34/34 [==============================] - 0s 3ms/step - loss: 0.4522 - binary_accuracy: 0.7973 - val_loss: 0.4015 - val_binary_accuracy: 0.8144\n",
      "Epoch 27/100\n",
      "34/34 [==============================] - 0s 3ms/step - loss: 0.4492 - binary_accuracy: 0.8033 - val_loss: 0.3993 - val_binary_accuracy: 0.8323\n",
      "Epoch 28/100\n",
      "34/34 [==============================] - 0s 3ms/step - loss: 0.4473 - binary_accuracy: 0.7958 - val_loss: 0.4822 - val_binary_accuracy: 0.8144\n",
      "Epoch 29/100\n",
      "34/34 [==============================] - 0s 3ms/step - loss: 0.4485 - binary_accuracy: 0.7988 - val_loss: 0.4043 - val_binary_accuracy: 0.8383\n",
      "Epoch 30/100\n",
      "34/34 [==============================] - 0s 3ms/step - loss: 0.4443 - binary_accuracy: 0.8063 - val_loss: 0.3976 - val_binary_accuracy: 0.8383\n",
      "Epoch 31/100\n",
      "34/34 [==============================] - 0s 3ms/step - loss: 0.4498 - binary_accuracy: 0.7958 - val_loss: 0.5456 - val_binary_accuracy: 0.7784\n",
      "Epoch 32/100\n",
      "34/34 [==============================] - 0s 3ms/step - loss: 0.4907 - binary_accuracy: 0.7958 - val_loss: 0.3991 - val_binary_accuracy: 0.8144\n",
      "Epoch 33/100\n",
      "34/34 [==============================] - 0s 3ms/step - loss: 0.4927 - binary_accuracy: 0.7793 - val_loss: 0.4102 - val_binary_accuracy: 0.8503\n",
      "Epoch 34/100\n",
      "34/34 [==============================] - 0s 3ms/step - loss: 0.4528 - binary_accuracy: 0.8063 - val_loss: 0.4569 - val_binary_accuracy: 0.7964\n",
      "Epoch 35/100\n",
      "34/34 [==============================] - 0s 3ms/step - loss: 0.5018 - binary_accuracy: 0.7778 - val_loss: 0.5359 - val_binary_accuracy: 0.7964\n",
      "Epoch 36/100\n",
      "34/34 [==============================] - 0s 3ms/step - loss: 0.5091 - binary_accuracy: 0.7898 - val_loss: 0.4476 - val_binary_accuracy: 0.8084\n",
      "Epoch 37/100\n",
      "34/34 [==============================] - 0s 4ms/step - loss: 0.4437 - binary_accuracy: 0.8153 - val_loss: 0.3993 - val_binary_accuracy: 0.8323\n",
      "Epoch 38/100\n",
      "34/34 [==============================] - 0s 3ms/step - loss: 0.4399 - binary_accuracy: 0.8063 - val_loss: 0.3939 - val_binary_accuracy: 0.8263\n",
      "Epoch 39/100\n",
      "34/34 [==============================] - 0s 3ms/step - loss: 0.4379 - binary_accuracy: 0.8048 - val_loss: 0.3916 - val_binary_accuracy: 0.8263\n",
      "Epoch 40/100\n",
      "34/34 [==============================] - 0s 4ms/step - loss: 0.4415 - binary_accuracy: 0.8078 - val_loss: 0.3934 - val_binary_accuracy: 0.8323\n",
      "Epoch 41/100\n",
      "34/34 [==============================] - 0s 3ms/step - loss: 0.4416 - binary_accuracy: 0.7973 - val_loss: 0.4998 - val_binary_accuracy: 0.8084\n",
      "Epoch 42/100\n",
      "34/34 [==============================] - 0s 3ms/step - loss: 0.4624 - binary_accuracy: 0.8003 - val_loss: 0.5006 - val_binary_accuracy: 0.7784\n",
      "Epoch 43/100\n",
      "34/34 [==============================] - 0s 3ms/step - loss: 0.4427 - binary_accuracy: 0.8078 - val_loss: 0.4636 - val_binary_accuracy: 0.8263\n",
      "Epoch 44/100\n",
      "34/34 [==============================] - 0s 3ms/step - loss: 0.4734 - binary_accuracy: 0.7928 - val_loss: 0.3939 - val_binary_accuracy: 0.8383\n",
      "Epoch 45/100\n",
      "34/34 [==============================] - 0s 3ms/step - loss: 0.4336 - binary_accuracy: 0.8183 - val_loss: 0.4392 - val_binary_accuracy: 0.7964\n",
      "Epoch 46/100\n",
      "34/34 [==============================] - 0s 3ms/step - loss: 0.4696 - binary_accuracy: 0.7928 - val_loss: 0.3864 - val_binary_accuracy: 0.8144\n",
      "Epoch 47/100\n",
      "34/34 [==============================] - 0s 3ms/step - loss: 0.4463 - binary_accuracy: 0.8033 - val_loss: 0.3927 - val_binary_accuracy: 0.8443\n",
      "Epoch 48/100\n",
      "34/34 [==============================] - 0s 3ms/step - loss: 0.4338 - binary_accuracy: 0.8108 - val_loss: 0.3863 - val_binary_accuracy: 0.8323\n",
      "Epoch 49/100\n",
      "34/34 [==============================] - 0s 3ms/step - loss: 0.4470 - binary_accuracy: 0.8078 - val_loss: 0.3913 - val_binary_accuracy: 0.8144\n",
      "Epoch 50/100\n",
      "34/34 [==============================] - 0s 3ms/step - loss: 0.4429 - binary_accuracy: 0.7973 - val_loss: 0.3959 - val_binary_accuracy: 0.8204\n",
      "Epoch 51/100\n",
      "34/34 [==============================] - 0s 3ms/step - loss: 0.4285 - binary_accuracy: 0.8138 - val_loss: 0.3822 - val_binary_accuracy: 0.8204\n",
      "Epoch 52/100\n",
      "34/34 [==============================] - 0s 3ms/step - loss: 0.4283 - binary_accuracy: 0.8138 - val_loss: 0.3819 - val_binary_accuracy: 0.8204\n",
      "Epoch 53/100\n",
      "34/34 [==============================] - 0s 4ms/step - loss: 0.4655 - binary_accuracy: 0.8078 - val_loss: 0.4378 - val_binary_accuracy: 0.8084\n",
      "Epoch 54/100\n",
      "34/34 [==============================] - 0s 3ms/step - loss: 0.4805 - binary_accuracy: 0.7943 - val_loss: 0.4091 - val_binary_accuracy: 0.8323\n",
      "Epoch 55/100\n",
      "34/34 [==============================] - 0s 3ms/step - loss: 0.4284 - binary_accuracy: 0.8078 - val_loss: 0.3803 - val_binary_accuracy: 0.8323\n",
      "Epoch 56/100\n",
      "34/34 [==============================] - 0s 3ms/step - loss: 0.4271 - binary_accuracy: 0.8063 - val_loss: 0.3802 - val_binary_accuracy: 0.8383\n",
      "Epoch 57/100\n",
      "34/34 [==============================] - 0s 3ms/step - loss: 0.4289 - binary_accuracy: 0.8078 - val_loss: 0.3782 - val_binary_accuracy: 0.8084\n",
      "Epoch 58/100\n",
      "34/34 [==============================] - 0s 3ms/step - loss: 0.4246 - binary_accuracy: 0.8108 - val_loss: 0.3783 - val_binary_accuracy: 0.8383\n",
      "Epoch 59/100\n",
      "34/34 [==============================] - 0s 3ms/step - loss: 0.4211 - binary_accuracy: 0.8063 - val_loss: 0.3769 - val_binary_accuracy: 0.8204\n",
      "Epoch 60/100\n",
      "34/34 [==============================] - 0s 3ms/step - loss: 0.4337 - binary_accuracy: 0.7868 - val_loss: 0.3844 - val_binary_accuracy: 0.8204\n",
      "Epoch 61/100\n",
      "34/34 [==============================] - 0s 3ms/step - loss: 0.4183 - binary_accuracy: 0.8108 - val_loss: 0.4034 - val_binary_accuracy: 0.8323\n",
      "Epoch 62/100\n",
      "34/34 [==============================] - 0s 3ms/step - loss: 0.4228 - binary_accuracy: 0.8108 - val_loss: 0.3758 - val_binary_accuracy: 0.8323\n",
      "Epoch 63/100\n",
      "34/34 [==============================] - 0s 3ms/step - loss: 0.4196 - binary_accuracy: 0.8108 - val_loss: 0.3796 - val_binary_accuracy: 0.8383\n",
      "Epoch 64/100\n",
      "34/34 [==============================] - 0s 3ms/step - loss: 0.4376 - binary_accuracy: 0.8063 - val_loss: 0.3886 - val_binary_accuracy: 0.8204\n",
      "Epoch 65/100\n",
      "34/34 [==============================] - 0s 3ms/step - loss: 0.4153 - binary_accuracy: 0.8123 - val_loss: 0.3724 - val_binary_accuracy: 0.8204\n",
      "Epoch 66/100\n",
      "34/34 [==============================] - 0s 3ms/step - loss: 0.4358 - binary_accuracy: 0.8093 - val_loss: 0.4192 - val_binary_accuracy: 0.8204\n",
      "Epoch 67/100\n",
      "34/34 [==============================] - 0s 3ms/step - loss: 0.4226 - binary_accuracy: 0.8138 - val_loss: 0.3752 - val_binary_accuracy: 0.8204\n",
      "Epoch 68/100\n",
      "34/34 [==============================] - 0s 3ms/step - loss: 0.4275 - binary_accuracy: 0.8138 - val_loss: 0.3967 - val_binary_accuracy: 0.8204\n",
      "Epoch 69/100\n",
      "34/34 [==============================] - 0s 3ms/step - loss: 0.4259 - binary_accuracy: 0.8018 - val_loss: 0.3738 - val_binary_accuracy: 0.8204\n",
      "Epoch 70/100\n",
      "34/34 [==============================] - 0s 3ms/step - loss: 0.4236 - binary_accuracy: 0.8048 - val_loss: 0.3716 - val_binary_accuracy: 0.8204\n",
      "Epoch 71/100\n",
      "34/34 [==============================] - 0s 3ms/step - loss: 0.4310 - binary_accuracy: 0.8063 - val_loss: 0.3719 - val_binary_accuracy: 0.8383\n",
      "Epoch 72/100\n",
      "34/34 [==============================] - 0s 3ms/step - loss: 0.4206 - binary_accuracy: 0.8123 - val_loss: 0.3746 - val_binary_accuracy: 0.8204\n",
      "Epoch 73/100\n",
      "34/34 [==============================] - 0s 3ms/step - loss: 0.4287 - binary_accuracy: 0.8048 - val_loss: 0.3839 - val_binary_accuracy: 0.8204\n",
      "Epoch 74/100\n",
      "34/34 [==============================] - 0s 3ms/step - loss: 0.4488 - binary_accuracy: 0.7973 - val_loss: 0.3721 - val_binary_accuracy: 0.8323\n",
      "Epoch 75/100\n",
      "34/34 [==============================] - 0s 3ms/step - loss: 0.5067 - binary_accuracy: 0.8033 - val_loss: 0.4202 - val_binary_accuracy: 0.8144\n",
      "Epoch 76/100\n",
      "34/34 [==============================] - 0s 3ms/step - loss: 0.4336 - binary_accuracy: 0.8033 - val_loss: 0.4299 - val_binary_accuracy: 0.8144\n",
      "Epoch 77/100\n",
      "34/34 [==============================] - 0s 3ms/step - loss: 0.4351 - binary_accuracy: 0.8078 - val_loss: 0.4715 - val_binary_accuracy: 0.8084\n",
      "Epoch 78/100\n",
      "34/34 [==============================] - 0s 3ms/step - loss: 0.4428 - binary_accuracy: 0.7943 - val_loss: 0.4255 - val_binary_accuracy: 0.8144\n",
      "Epoch 79/100\n",
      "34/34 [==============================] - 0s 3ms/step - loss: 0.4467 - binary_accuracy: 0.8048 - val_loss: 0.4183 - val_binary_accuracy: 0.8204\n",
      "Epoch 80/100\n",
      "34/34 [==============================] - 0s 3ms/step - loss: 0.4175 - binary_accuracy: 0.8108 - val_loss: 0.3798 - val_binary_accuracy: 0.8204\n",
      "Epoch 81/100\n",
      "34/34 [==============================] - 0s 3ms/step - loss: 0.4336 - binary_accuracy: 0.8063 - val_loss: 0.3889 - val_binary_accuracy: 0.8204\n",
      "Epoch 82/100\n",
      "34/34 [==============================] - 0s 3ms/step - loss: 0.4174 - binary_accuracy: 0.8153 - val_loss: 0.3824 - val_binary_accuracy: 0.8204\n",
      "Epoch 83/100\n",
      "34/34 [==============================] - 0s 3ms/step - loss: 0.4610 - binary_accuracy: 0.8063 - val_loss: 0.3998 - val_binary_accuracy: 0.8263\n",
      "Epoch 84/100\n",
      "34/34 [==============================] - 0s 3ms/step - loss: 0.4349 - binary_accuracy: 0.8198 - val_loss: 0.3861 - val_binary_accuracy: 0.8323\n",
      "Epoch 85/100\n",
      "34/34 [==============================] - 0s 3ms/step - loss: 0.4165 - binary_accuracy: 0.8078 - val_loss: 0.3672 - val_binary_accuracy: 0.8084\n",
      "Epoch 86/100\n",
      "34/34 [==============================] - 0s 3ms/step - loss: 0.4276 - binary_accuracy: 0.8123 - val_loss: 0.3789 - val_binary_accuracy: 0.8204\n",
      "Epoch 87/100\n",
      "34/34 [==============================] - 0s 3ms/step - loss: 0.5387 - binary_accuracy: 0.7883 - val_loss: 0.4162 - val_binary_accuracy: 0.8263\n",
      "Epoch 88/100\n",
      "34/34 [==============================] - 0s 3ms/step - loss: 0.4333 - binary_accuracy: 0.8078 - val_loss: 0.4067 - val_binary_accuracy: 0.8263\n",
      "Epoch 89/100\n",
      "34/34 [==============================] - 0s 5ms/step - loss: 0.4072 - binary_accuracy: 0.8198 - val_loss: 0.3827 - val_binary_accuracy: 0.8204\n",
      "Epoch 90/100\n",
      "34/34 [==============================] - 0s 3ms/step - loss: 0.4334 - binary_accuracy: 0.8048 - val_loss: 0.3816 - val_binary_accuracy: 0.8263\n",
      "Epoch 91/100\n",
      "34/34 [==============================] - 0s 3ms/step - loss: 0.4241 - binary_accuracy: 0.8138 - val_loss: 0.3724 - val_binary_accuracy: 0.8443\n",
      "Epoch 92/100\n",
      "34/34 [==============================] - 0s 3ms/step - loss: 0.4042 - binary_accuracy: 0.8183 - val_loss: 0.3706 - val_binary_accuracy: 0.8443\n",
      "Epoch 93/100\n",
      "34/34 [==============================] - 0s 3ms/step - loss: 0.4137 - binary_accuracy: 0.8078 - val_loss: 0.3698 - val_binary_accuracy: 0.8204\n",
      "Epoch 94/100\n",
      "34/34 [==============================] - 0s 3ms/step - loss: 0.4230 - binary_accuracy: 0.8138 - val_loss: 0.4232 - val_binary_accuracy: 0.8144\n",
      "Epoch 95/100\n",
      "34/34 [==============================] - 0s 3ms/step - loss: 0.4281 - binary_accuracy: 0.8093 - val_loss: 0.3759 - val_binary_accuracy: 0.8204\n",
      "Epoch 96/100\n",
      "34/34 [==============================] - 0s 3ms/step - loss: 0.4160 - binary_accuracy: 0.8063 - val_loss: 0.4232 - val_binary_accuracy: 0.8383\n",
      "Epoch 97/100\n",
      "34/34 [==============================] - 0s 3ms/step - loss: 0.4342 - binary_accuracy: 0.8048 - val_loss: 0.3706 - val_binary_accuracy: 0.8204\n",
      "Epoch 98/100\n",
      "34/34 [==============================] - 0s 3ms/step - loss: 0.4116 - binary_accuracy: 0.8018 - val_loss: 0.3598 - val_binary_accuracy: 0.8204\n",
      "Epoch 99/100\n",
      "34/34 [==============================] - 0s 3ms/step - loss: 0.4161 - binary_accuracy: 0.8183 - val_loss: 0.3626 - val_binary_accuracy: 0.8084\n",
      "Epoch 100/100\n",
      "34/34 [==============================] - 0s 3ms/step - loss: 0.4218 - binary_accuracy: 0.8078 - val_loss: 0.3559 - val_binary_accuracy: 0.8204\n"
     ]
    },
    {
     "data": {
      "text/plain": [
       "<keras.callbacks.History at 0x7f66d9d64d10>"
      ]
     },
     "execution_count": 44,
     "metadata": {},
     "output_type": "execute_result"
    }
   ],
   "source": [
    "model.fit(x_train,y_train, epochs=100, batch_size=20,\n",
    "          validation_data=(x_valid_, y_valid_))"
   ]
  },
  {
   "cell_type": "code",
   "execution_count": 45,
   "id": "f349ae64",
   "metadata": {
    "execution": {
     "iopub.execute_input": "2022-08-30T16:29:46.336124Z",
     "iopub.status.busy": "2022-08-30T16:29:46.334854Z",
     "iopub.status.idle": "2022-08-30T16:29:46.519935Z",
     "shell.execute_reply": "2022-08-30T16:29:46.518739Z"
    },
    "papermill": {
     "duration": 0.231418,
     "end_time": "2022-08-30T16:29:46.522249",
     "exception": false,
     "start_time": "2022-08-30T16:29:46.290831",
     "status": "completed"
    },
    "tags": []
   },
   "outputs": [
    {
     "data": {
      "text/html": [
       "<div>\n",
       "<style scoped>\n",
       "    .dataframe tbody tr th:only-of-type {\n",
       "        vertical-align: middle;\n",
       "    }\n",
       "\n",
       "    .dataframe tbody tr th {\n",
       "        vertical-align: top;\n",
       "    }\n",
       "\n",
       "    .dataframe thead th {\n",
       "        text-align: right;\n",
       "    }\n",
       "</style>\n",
       "<table border=\"1\" class=\"dataframe\">\n",
       "  <thead>\n",
       "    <tr style=\"text-align: right;\">\n",
       "      <th></th>\n",
       "      <th>Pclass_2</th>\n",
       "      <th>Pclass_3</th>\n",
       "      <th>Parch_1</th>\n",
       "      <th>Parch_2</th>\n",
       "      <th>Parch_3</th>\n",
       "      <th>Parch_4</th>\n",
       "      <th>Parch_5</th>\n",
       "      <th>Parch_6</th>\n",
       "      <th>SibSp_1</th>\n",
       "      <th>SibSp_2</th>\n",
       "      <th>SibSp_3</th>\n",
       "      <th>SibSp_4</th>\n",
       "      <th>SibSp_5</th>\n",
       "      <th>SibSp_8</th>\n",
       "      <th>Sex_male</th>\n",
       "      <th>Embarked_Q</th>\n",
       "      <th>Embarked_S</th>\n",
       "      <th>Fare</th>\n",
       "      <th>prediction</th>\n",
       "    </tr>\n",
       "  </thead>\n",
       "  <tbody>\n",
       "    <tr>\n",
       "      <th>318</th>\n",
       "      <td>0</td>\n",
       "      <td>0</td>\n",
       "      <td>0</td>\n",
       "      <td>1</td>\n",
       "      <td>0</td>\n",
       "      <td>0</td>\n",
       "      <td>0</td>\n",
       "      <td>0</td>\n",
       "      <td>0</td>\n",
       "      <td>0</td>\n",
       "      <td>0</td>\n",
       "      <td>0</td>\n",
       "      <td>0</td>\n",
       "      <td>0</td>\n",
       "      <td>0</td>\n",
       "      <td>0</td>\n",
       "      <td>1</td>\n",
       "      <td>164.8667</td>\n",
       "      <td>0.949245</td>\n",
       "    </tr>\n",
       "    <tr>\n",
       "      <th>705</th>\n",
       "      <td>1</td>\n",
       "      <td>0</td>\n",
       "      <td>0</td>\n",
       "      <td>0</td>\n",
       "      <td>0</td>\n",
       "      <td>0</td>\n",
       "      <td>0</td>\n",
       "      <td>0</td>\n",
       "      <td>0</td>\n",
       "      <td>0</td>\n",
       "      <td>0</td>\n",
       "      <td>0</td>\n",
       "      <td>0</td>\n",
       "      <td>0</td>\n",
       "      <td>1</td>\n",
       "      <td>0</td>\n",
       "      <td>1</td>\n",
       "      <td>26.0000</td>\n",
       "      <td>0.151186</td>\n",
       "    </tr>\n",
       "    <tr>\n",
       "      <th>347</th>\n",
       "      <td>0</td>\n",
       "      <td>1</td>\n",
       "      <td>0</td>\n",
       "      <td>0</td>\n",
       "      <td>0</td>\n",
       "      <td>0</td>\n",
       "      <td>0</td>\n",
       "      <td>0</td>\n",
       "      <td>1</td>\n",
       "      <td>0</td>\n",
       "      <td>0</td>\n",
       "      <td>0</td>\n",
       "      <td>0</td>\n",
       "      <td>0</td>\n",
       "      <td>0</td>\n",
       "      <td>0</td>\n",
       "      <td>1</td>\n",
       "      <td>16.1000</td>\n",
       "      <td>0.472451</td>\n",
       "    </tr>\n",
       "    <tr>\n",
       "      <th>490</th>\n",
       "      <td>0</td>\n",
       "      <td>1</td>\n",
       "      <td>0</td>\n",
       "      <td>0</td>\n",
       "      <td>0</td>\n",
       "      <td>0</td>\n",
       "      <td>0</td>\n",
       "      <td>0</td>\n",
       "      <td>1</td>\n",
       "      <td>0</td>\n",
       "      <td>0</td>\n",
       "      <td>0</td>\n",
       "      <td>0</td>\n",
       "      <td>0</td>\n",
       "      <td>1</td>\n",
       "      <td>0</td>\n",
       "      <td>1</td>\n",
       "      <td>19.9667</td>\n",
       "      <td>0.099957</td>\n",
       "    </tr>\n",
       "    <tr>\n",
       "      <th>441</th>\n",
       "      <td>0</td>\n",
       "      <td>1</td>\n",
       "      <td>0</td>\n",
       "      <td>0</td>\n",
       "      <td>0</td>\n",
       "      <td>0</td>\n",
       "      <td>0</td>\n",
       "      <td>0</td>\n",
       "      <td>0</td>\n",
       "      <td>0</td>\n",
       "      <td>0</td>\n",
       "      <td>0</td>\n",
       "      <td>0</td>\n",
       "      <td>0</td>\n",
       "      <td>1</td>\n",
       "      <td>0</td>\n",
       "      <td>1</td>\n",
       "      <td>9.5000</td>\n",
       "      <td>0.106655</td>\n",
       "    </tr>\n",
       "  </tbody>\n",
       "</table>\n",
       "</div>"
      ],
      "text/plain": [
       "     Pclass_2  Pclass_3  Parch_1  Parch_2  Parch_3  Parch_4  Parch_5  Parch_6  \\\n",
       "318         0         0        0        1        0        0        0        0   \n",
       "705         1         0        0        0        0        0        0        0   \n",
       "347         0         1        0        0        0        0        0        0   \n",
       "490         0         1        0        0        0        0        0        0   \n",
       "441         0         1        0        0        0        0        0        0   \n",
       "\n",
       "     SibSp_1  SibSp_2  SibSp_3  SibSp_4  SibSp_5  SibSp_8  Sex_male  \\\n",
       "318        0        0        0        0        0        0         0   \n",
       "705        0        0        0        0        0        0         1   \n",
       "347        1        0        0        0        0        0         0   \n",
       "490        1        0        0        0        0        0         1   \n",
       "441        0        0        0        0        0        0         1   \n",
       "\n",
       "     Embarked_Q  Embarked_S      Fare  prediction  \n",
       "318           0           1  164.8667    0.949245  \n",
       "705           0           1   26.0000    0.151186  \n",
       "347           0           1   16.1000    0.472451  \n",
       "490           0           1   19.9667    0.099957  \n",
       "441           0           1    9.5000    0.106655  "
      ]
     },
     "execution_count": 45,
     "metadata": {},
     "output_type": "execute_result"
    }
   ],
   "source": [
    "predictions = x_train.copy()\n",
    "predictions['prediction'] = model.predict(x_train)\n",
    "predictions.head()"
   ]
  },
  {
   "cell_type": "code",
   "execution_count": 46,
   "id": "1f933807",
   "metadata": {
    "execution": {
     "iopub.execute_input": "2022-08-30T16:29:46.609971Z",
     "iopub.status.busy": "2022-08-30T16:29:46.608890Z",
     "iopub.status.idle": "2022-08-30T16:29:46.618701Z",
     "shell.execute_reply": "2022-08-30T16:29:46.617633Z"
    },
    "papermill": {
     "duration": 0.055838,
     "end_time": "2022-08-30T16:29:46.620875",
     "exception": false,
     "start_time": "2022-08-30T16:29:46.565037",
     "status": "completed"
    },
    "tags": []
   },
   "outputs": [
    {
     "data": {
      "text/plain": [
       "array([[373,  44],\n",
       "       [ 80, 169]])"
      ]
     },
     "execution_count": 46,
     "metadata": {},
     "output_type": "execute_result"
    }
   ],
   "source": [
    "y_hat=predictions['prediction']\n",
    "conf_mat_tf=confusion_matrix(y_true=y_train ,y_pred=round(y_hat))\n",
    "conf_mat_tf"
   ]
  },
  {
   "cell_type": "code",
   "execution_count": 47,
   "id": "e6e9049c",
   "metadata": {
    "execution": {
     "iopub.execute_input": "2022-08-30T16:29:46.709569Z",
     "iopub.status.busy": "2022-08-30T16:29:46.708852Z",
     "iopub.status.idle": "2022-08-30T16:29:46.716094Z",
     "shell.execute_reply": "2022-08-30T16:29:46.714516Z"
    },
    "papermill": {
     "duration": 0.054227,
     "end_time": "2022-08-30T16:29:46.718485",
     "exception": false,
     "start_time": "2022-08-30T16:29:46.664258",
     "status": "completed"
    },
    "tags": []
   },
   "outputs": [
    {
     "name": "stdout",
     "output_type": "stream",
     "text": [
      "Precision= 0.8233995584988962\n",
      "Recall= 0.894484412470024\n",
      "Specificity= 0.678714859437751\n"
     ]
    }
   ],
   "source": [
    "print('Precision=', conf_mat_tf[0, 0] / sum(conf_mat_tf[:, 0]))\n",
    "print('Recall=', conf_mat_tf[0, 0] / sum(conf_mat_tf[0, :]))\n",
    "print('Specificity=', conf_mat_tf[1, 1] / sum(conf_mat_tf[1, :]))"
   ]
  },
  {
   "cell_type": "code",
   "execution_count": 48,
   "id": "90a49f11",
   "metadata": {
    "execution": {
     "iopub.execute_input": "2022-08-30T16:29:46.807061Z",
     "iopub.status.busy": "2022-08-30T16:29:46.806607Z",
     "iopub.status.idle": "2022-08-30T16:29:46.897149Z",
     "shell.execute_reply": "2022-08-30T16:29:46.896200Z"
    },
    "papermill": {
     "duration": 0.137899,
     "end_time": "2022-08-30T16:29:46.899524",
     "exception": false,
     "start_time": "2022-08-30T16:29:46.761625",
     "status": "completed"
    },
    "tags": []
   },
   "outputs": [
    {
     "data": {
      "text/html": [
       "<div>\n",
       "<style scoped>\n",
       "    .dataframe tbody tr th:only-of-type {\n",
       "        vertical-align: middle;\n",
       "    }\n",
       "\n",
       "    .dataframe tbody tr th {\n",
       "        vertical-align: top;\n",
       "    }\n",
       "\n",
       "    .dataframe thead th {\n",
       "        text-align: right;\n",
       "    }\n",
       "</style>\n",
       "<table border=\"1\" class=\"dataframe\">\n",
       "  <thead>\n",
       "    <tr style=\"text-align: right;\">\n",
       "      <th></th>\n",
       "      <th>Pclass_2</th>\n",
       "      <th>Pclass_3</th>\n",
       "      <th>Parch_1</th>\n",
       "      <th>Parch_2</th>\n",
       "      <th>Parch_3</th>\n",
       "      <th>Parch_4</th>\n",
       "      <th>Parch_5</th>\n",
       "      <th>Parch_6</th>\n",
       "      <th>SibSp_1</th>\n",
       "      <th>SibSp_2</th>\n",
       "      <th>SibSp_3</th>\n",
       "      <th>SibSp_4</th>\n",
       "      <th>SibSp_5</th>\n",
       "      <th>SibSp_8</th>\n",
       "      <th>Sex_male</th>\n",
       "      <th>Embarked_Q</th>\n",
       "      <th>Embarked_S</th>\n",
       "      <th>Fare</th>\n",
       "      <th>prediction</th>\n",
       "    </tr>\n",
       "  </thead>\n",
       "  <tbody>\n",
       "    <tr>\n",
       "      <th>14</th>\n",
       "      <td>0</td>\n",
       "      <td>1</td>\n",
       "      <td>0</td>\n",
       "      <td>0</td>\n",
       "      <td>0</td>\n",
       "      <td>0</td>\n",
       "      <td>0</td>\n",
       "      <td>0</td>\n",
       "      <td>0</td>\n",
       "      <td>0</td>\n",
       "      <td>0</td>\n",
       "      <td>0</td>\n",
       "      <td>0</td>\n",
       "      <td>0</td>\n",
       "      <td>0</td>\n",
       "      <td>0</td>\n",
       "      <td>1</td>\n",
       "      <td>7.8542</td>\n",
       "      <td>0.533148</td>\n",
       "    </tr>\n",
       "    <tr>\n",
       "      <th>159</th>\n",
       "      <td>0</td>\n",
       "      <td>1</td>\n",
       "      <td>0</td>\n",
       "      <td>1</td>\n",
       "      <td>0</td>\n",
       "      <td>0</td>\n",
       "      <td>0</td>\n",
       "      <td>0</td>\n",
       "      <td>0</td>\n",
       "      <td>0</td>\n",
       "      <td>0</td>\n",
       "      <td>0</td>\n",
       "      <td>0</td>\n",
       "      <td>1</td>\n",
       "      <td>1</td>\n",
       "      <td>0</td>\n",
       "      <td>1</td>\n",
       "      <td>69.5500</td>\n",
       "      <td>0.011976</td>\n",
       "    </tr>\n",
       "    <tr>\n",
       "      <th>763</th>\n",
       "      <td>0</td>\n",
       "      <td>0</td>\n",
       "      <td>0</td>\n",
       "      <td>1</td>\n",
       "      <td>0</td>\n",
       "      <td>0</td>\n",
       "      <td>0</td>\n",
       "      <td>0</td>\n",
       "      <td>1</td>\n",
       "      <td>0</td>\n",
       "      <td>0</td>\n",
       "      <td>0</td>\n",
       "      <td>0</td>\n",
       "      <td>0</td>\n",
       "      <td>0</td>\n",
       "      <td>0</td>\n",
       "      <td>1</td>\n",
       "      <td>120.0000</td>\n",
       "      <td>0.920407</td>\n",
       "    </tr>\n",
       "    <tr>\n",
       "      <th>741</th>\n",
       "      <td>0</td>\n",
       "      <td>0</td>\n",
       "      <td>0</td>\n",
       "      <td>0</td>\n",
       "      <td>0</td>\n",
       "      <td>0</td>\n",
       "      <td>0</td>\n",
       "      <td>0</td>\n",
       "      <td>1</td>\n",
       "      <td>0</td>\n",
       "      <td>0</td>\n",
       "      <td>0</td>\n",
       "      <td>0</td>\n",
       "      <td>0</td>\n",
       "      <td>1</td>\n",
       "      <td>0</td>\n",
       "      <td>1</td>\n",
       "      <td>78.8500</td>\n",
       "      <td>0.324934</td>\n",
       "    </tr>\n",
       "    <tr>\n",
       "      <th>483</th>\n",
       "      <td>0</td>\n",
       "      <td>1</td>\n",
       "      <td>0</td>\n",
       "      <td>0</td>\n",
       "      <td>0</td>\n",
       "      <td>0</td>\n",
       "      <td>0</td>\n",
       "      <td>0</td>\n",
       "      <td>0</td>\n",
       "      <td>0</td>\n",
       "      <td>0</td>\n",
       "      <td>0</td>\n",
       "      <td>0</td>\n",
       "      <td>0</td>\n",
       "      <td>0</td>\n",
       "      <td>0</td>\n",
       "      <td>1</td>\n",
       "      <td>9.5875</td>\n",
       "      <td>0.512650</td>\n",
       "    </tr>\n",
       "  </tbody>\n",
       "</table>\n",
       "</div>"
      ],
      "text/plain": [
       "     Pclass_2  Pclass_3  Parch_1  Parch_2  Parch_3  Parch_4  Parch_5  Parch_6  \\\n",
       "14          0         1        0        0        0        0        0        0   \n",
       "159         0         1        0        1        0        0        0        0   \n",
       "763         0         0        0        1        0        0        0        0   \n",
       "741         0         0        0        0        0        0        0        0   \n",
       "483         0         1        0        0        0        0        0        0   \n",
       "\n",
       "     SibSp_1  SibSp_2  SibSp_3  SibSp_4  SibSp_5  SibSp_8  Sex_male  \\\n",
       "14         0        0        0        0        0        0         0   \n",
       "159        0        0        0        0        0        1         1   \n",
       "763        1        0        0        0        0        0         0   \n",
       "741        1        0        0        0        0        0         1   \n",
       "483        0        0        0        0        0        0         0   \n",
       "\n",
       "     Embarked_Q  Embarked_S      Fare  prediction  \n",
       "14            0           1    7.8542    0.533148  \n",
       "159           0           1   69.5500    0.011976  \n",
       "763           0           1  120.0000    0.920407  \n",
       "741           0           1   78.8500    0.324934  \n",
       "483           0           1    9.5875    0.512650  "
      ]
     },
     "execution_count": 48,
     "metadata": {},
     "output_type": "execute_result"
    }
   ],
   "source": [
    "predictions_test = x_test.copy()\n",
    "predictions_test['prediction'] = model.predict(x_test)\n",
    "predictions_test.head()"
   ]
  },
  {
   "cell_type": "code",
   "execution_count": 49,
   "id": "759c3457",
   "metadata": {
    "execution": {
     "iopub.execute_input": "2022-08-30T16:29:46.989062Z",
     "iopub.status.busy": "2022-08-30T16:29:46.988445Z",
     "iopub.status.idle": "2022-08-30T16:29:46.996361Z",
     "shell.execute_reply": "2022-08-30T16:29:46.995526Z"
    },
    "papermill": {
     "duration": 0.05524,
     "end_time": "2022-08-30T16:29:46.998539",
     "exception": false,
     "start_time": "2022-08-30T16:29:46.943299",
     "status": "completed"
    },
    "tags": []
   },
   "outputs": [
    {
     "data": {
      "text/plain": [
       "array([[113,  19],\n",
       "       [ 34,  57]])"
      ]
     },
     "execution_count": 49,
     "metadata": {},
     "output_type": "execute_result"
    }
   ],
   "source": [
    "y_hat=predictions_test['prediction']\n",
    "conf_mat_tf=confusion_matrix(y_true=y_test ,y_pred=round(y_hat))\n",
    "conf_mat_tf"
   ]
  },
  {
   "cell_type": "code",
   "execution_count": 50,
   "id": "85c38c5d",
   "metadata": {
    "execution": {
     "iopub.execute_input": "2022-08-30T16:29:47.089539Z",
     "iopub.status.busy": "2022-08-30T16:29:47.088931Z",
     "iopub.status.idle": "2022-08-30T16:29:47.095718Z",
     "shell.execute_reply": "2022-08-30T16:29:47.094270Z"
    },
    "papermill": {
     "duration": 0.054754,
     "end_time": "2022-08-30T16:29:47.098154",
     "exception": false,
     "start_time": "2022-08-30T16:29:47.043400",
     "status": "completed"
    },
    "tags": []
   },
   "outputs": [
    {
     "name": "stdout",
     "output_type": "stream",
     "text": [
      "Precision= 0.7687074829931972\n",
      "Recall= 0.8560606060606061\n",
      "Specificity= 0.6263736263736264\n"
     ]
    }
   ],
   "source": [
    "print('Precision=', conf_mat_tf[0, 0] / sum(conf_mat_tf[:, 0]))\n",
    "print('Recall=', conf_mat_tf[0, 0] / sum(conf_mat_tf[0, :]))\n",
    "print('Specificity=', conf_mat_tf[1, 1] / sum(conf_mat_tf[1, :]))"
   ]
  },
  {
   "cell_type": "code",
   "execution_count": 51,
   "id": "6c80ab6b",
   "metadata": {
    "execution": {
     "iopub.execute_input": "2022-08-30T16:29:47.187283Z",
     "iopub.status.busy": "2022-08-30T16:29:47.186291Z",
     "iopub.status.idle": "2022-08-30T16:29:47.376014Z",
     "shell.execute_reply": "2022-08-30T16:29:47.374803Z"
    },
    "papermill": {
     "duration": 0.23701,
     "end_time": "2022-08-30T16:29:47.378551",
     "exception": false,
     "start_time": "2022-08-30T16:29:47.141541",
     "status": "completed"
    },
    "tags": []
   },
   "outputs": [
    {
     "data": {
      "text/html": [
       "<div>\n",
       "<style scoped>\n",
       "    .dataframe tbody tr th:only-of-type {\n",
       "        vertical-align: middle;\n",
       "    }\n",
       "\n",
       "    .dataframe tbody tr th {\n",
       "        vertical-align: top;\n",
       "    }\n",
       "\n",
       "    .dataframe thead th {\n",
       "        text-align: right;\n",
       "    }\n",
       "</style>\n",
       "<table border=\"1\" class=\"dataframe\">\n",
       "  <thead>\n",
       "    <tr style=\"text-align: right;\">\n",
       "      <th></th>\n",
       "      <th>0</th>\n",
       "      <th>0</th>\n",
       "      <th>0</th>\n",
       "    </tr>\n",
       "  </thead>\n",
       "  <tbody>\n",
       "    <tr>\n",
       "      <th>0</th>\n",
       "      <td>0</td>\n",
       "      <td>0</td>\n",
       "      <td>0.0</td>\n",
       "    </tr>\n",
       "    <tr>\n",
       "      <th>1</th>\n",
       "      <td>1</td>\n",
       "      <td>1</td>\n",
       "      <td>1.0</td>\n",
       "    </tr>\n",
       "    <tr>\n",
       "      <th>2</th>\n",
       "      <td>1</td>\n",
       "      <td>1</td>\n",
       "      <td>1.0</td>\n",
       "    </tr>\n",
       "    <tr>\n",
       "      <th>3</th>\n",
       "      <td>1</td>\n",
       "      <td>1</td>\n",
       "      <td>1.0</td>\n",
       "    </tr>\n",
       "    <tr>\n",
       "      <th>4</th>\n",
       "      <td>0</td>\n",
       "      <td>0</td>\n",
       "      <td>0.0</td>\n",
       "    </tr>\n",
       "  </tbody>\n",
       "</table>\n",
       "</div>"
      ],
      "text/plain": [
       "   0  0    0\n",
       "0  0  0  0.0\n",
       "1  1  1  1.0\n",
       "2  1  1  1.0\n",
       "3  1  1  1.0\n",
       "4  0  0  0.0"
      ]
     },
     "execution_count": 51,
     "metadata": {},
     "output_type": "execute_result"
    }
   ],
   "source": [
    "pred_lr=pd.DataFrame(logit_reg.predict(X))\n",
    "pred_rf=pd.DataFrame(rf.predict(X))\n",
    "pred_tf=pd.DataFrame(model.predict(X))\n",
    "\n",
    "\"\"\"\n",
    "pred_dict= {\n",
    "    'Pred_logit':logit_reg.predict(X),\n",
    "    'Pred_rf':rf.predict(X),\n",
    "    'Pred_tf':model.predict(X)\n",
    "}\n",
    "perd_df= pd.Dataframe(pred_dict)\n",
    "\"\"\"\n",
    "Merge_pred=pd.concat([pred_lr,pred_rf,(round(pred_tf))], axis=1)\n",
    "Merge_pred.head()"
   ]
  },
  {
   "cell_type": "code",
   "execution_count": 52,
   "id": "01bfc2da",
   "metadata": {
    "execution": {
     "iopub.execute_input": "2022-08-30T16:29:47.467604Z",
     "iopub.status.busy": "2022-08-30T16:29:47.466326Z",
     "iopub.status.idle": "2022-08-30T16:29:47.660647Z",
     "shell.execute_reply": "2022-08-30T16:29:47.659434Z"
    },
    "papermill": {
     "duration": 0.242022,
     "end_time": "2022-08-30T16:29:47.663634",
     "exception": false,
     "start_time": "2022-08-30T16:29:47.421612",
     "status": "completed"
    },
    "tags": []
   },
   "outputs": [],
   "source": [
    "FInal_pred=Merge_pred.mode(axis=1)"
   ]
  },
  {
   "cell_type": "code",
   "execution_count": 53,
   "id": "d46e4b23",
   "metadata": {
    "execution": {
     "iopub.execute_input": "2022-08-30T16:29:47.753729Z",
     "iopub.status.busy": "2022-08-30T16:29:47.753305Z",
     "iopub.status.idle": "2022-08-30T16:29:47.763595Z",
     "shell.execute_reply": "2022-08-30T16:29:47.762681Z"
    },
    "papermill": {
     "duration": 0.058512,
     "end_time": "2022-08-30T16:29:47.765846",
     "exception": false,
     "start_time": "2022-08-30T16:29:47.707334",
     "status": "completed"
    },
    "tags": []
   },
   "outputs": [
    {
     "data": {
      "text/plain": [
       "array([[487,  62],\n",
       "       [107, 233]])"
      ]
     },
     "execution_count": 53,
     "metadata": {},
     "output_type": "execute_result"
    }
   ],
   "source": [
    "y_hat=FInal_pred\n",
    "conf_mat_f=confusion_matrix(y_true=Y ,y_pred=round(y_hat))\n",
    "conf_mat_f"
   ]
  },
  {
   "cell_type": "code",
   "execution_count": 54,
   "id": "e8309c5f",
   "metadata": {
    "execution": {
     "iopub.execute_input": "2022-08-30T16:29:47.855376Z",
     "iopub.status.busy": "2022-08-30T16:29:47.854666Z",
     "iopub.status.idle": "2022-08-30T16:29:47.862658Z",
     "shell.execute_reply": "2022-08-30T16:29:47.861082Z"
    },
    "papermill": {
     "duration": 0.055807,
     "end_time": "2022-08-30T16:29:47.865410",
     "exception": false,
     "start_time": "2022-08-30T16:29:47.809603",
     "status": "completed"
    },
    "tags": []
   },
   "outputs": [
    {
     "name": "stdout",
     "output_type": "stream",
     "text": [
      "Precision= 0.8198653198653199\n",
      "Recall= 0.8870673952641166\n",
      "Specificity= 0.6852941176470588\n"
     ]
    }
   ],
   "source": [
    "print('Precision=', conf_mat_f[0, 0] / sum(conf_mat_f[:, 0]))\n",
    "print('Recall=', conf_mat_f[0, 0] / sum(conf_mat_f[0, :]))\n",
    "print('Specificity=', conf_mat_f[1, 1] / sum(conf_mat_f[1, :]))"
   ]
  },
  {
   "cell_type": "code",
   "execution_count": 55,
   "id": "8e8edf44",
   "metadata": {
    "execution": {
     "iopub.execute_input": "2022-08-30T16:29:47.955457Z",
     "iopub.status.busy": "2022-08-30T16:29:47.954305Z",
     "iopub.status.idle": "2022-08-30T16:29:47.980599Z",
     "shell.execute_reply": "2022-08-30T16:29:47.979536Z"
    },
    "papermill": {
     "duration": 0.074018,
     "end_time": "2022-08-30T16:29:47.982914",
     "exception": false,
     "start_time": "2022-08-30T16:29:47.908896",
     "status": "completed"
    },
    "tags": []
   },
   "outputs": [
    {
     "data": {
      "text/html": [
       "<div>\n",
       "<style scoped>\n",
       "    .dataframe tbody tr th:only-of-type {\n",
       "        vertical-align: middle;\n",
       "    }\n",
       "\n",
       "    .dataframe tbody tr th {\n",
       "        vertical-align: top;\n",
       "    }\n",
       "\n",
       "    .dataframe thead th {\n",
       "        text-align: right;\n",
       "    }\n",
       "</style>\n",
       "<table border=\"1\" class=\"dataframe\">\n",
       "  <thead>\n",
       "    <tr style=\"text-align: right;\">\n",
       "      <th></th>\n",
       "      <th>PassengerId</th>\n",
       "      <th>Pclass</th>\n",
       "      <th>Name</th>\n",
       "      <th>Sex</th>\n",
       "      <th>Age</th>\n",
       "      <th>SibSp</th>\n",
       "      <th>Parch</th>\n",
       "      <th>Ticket</th>\n",
       "      <th>Fare</th>\n",
       "      <th>Cabin</th>\n",
       "      <th>Embarked</th>\n",
       "    </tr>\n",
       "  </thead>\n",
       "  <tbody>\n",
       "    <tr>\n",
       "      <th>0</th>\n",
       "      <td>892</td>\n",
       "      <td>3</td>\n",
       "      <td>Kelly, Mr. James</td>\n",
       "      <td>male</td>\n",
       "      <td>34.5</td>\n",
       "      <td>0</td>\n",
       "      <td>0</td>\n",
       "      <td>330911</td>\n",
       "      <td>7.8292</td>\n",
       "      <td>NaN</td>\n",
       "      <td>Q</td>\n",
       "    </tr>\n",
       "    <tr>\n",
       "      <th>1</th>\n",
       "      <td>893</td>\n",
       "      <td>3</td>\n",
       "      <td>Wilkes, Mrs. James (Ellen Needs)</td>\n",
       "      <td>female</td>\n",
       "      <td>47.0</td>\n",
       "      <td>1</td>\n",
       "      <td>0</td>\n",
       "      <td>363272</td>\n",
       "      <td>7.0000</td>\n",
       "      <td>NaN</td>\n",
       "      <td>S</td>\n",
       "    </tr>\n",
       "    <tr>\n",
       "      <th>2</th>\n",
       "      <td>894</td>\n",
       "      <td>2</td>\n",
       "      <td>Myles, Mr. Thomas Francis</td>\n",
       "      <td>male</td>\n",
       "      <td>62.0</td>\n",
       "      <td>0</td>\n",
       "      <td>0</td>\n",
       "      <td>240276</td>\n",
       "      <td>9.6875</td>\n",
       "      <td>NaN</td>\n",
       "      <td>Q</td>\n",
       "    </tr>\n",
       "    <tr>\n",
       "      <th>3</th>\n",
       "      <td>895</td>\n",
       "      <td>3</td>\n",
       "      <td>Wirz, Mr. Albert</td>\n",
       "      <td>male</td>\n",
       "      <td>27.0</td>\n",
       "      <td>0</td>\n",
       "      <td>0</td>\n",
       "      <td>315154</td>\n",
       "      <td>8.6625</td>\n",
       "      <td>NaN</td>\n",
       "      <td>S</td>\n",
       "    </tr>\n",
       "    <tr>\n",
       "      <th>4</th>\n",
       "      <td>896</td>\n",
       "      <td>3</td>\n",
       "      <td>Hirvonen, Mrs. Alexander (Helga E Lindqvist)</td>\n",
       "      <td>female</td>\n",
       "      <td>22.0</td>\n",
       "      <td>1</td>\n",
       "      <td>1</td>\n",
       "      <td>3101298</td>\n",
       "      <td>12.2875</td>\n",
       "      <td>NaN</td>\n",
       "      <td>S</td>\n",
       "    </tr>\n",
       "  </tbody>\n",
       "</table>\n",
       "</div>"
      ],
      "text/plain": [
       "   PassengerId  Pclass                                          Name     Sex  \\\n",
       "0          892       3                              Kelly, Mr. James    male   \n",
       "1          893       3              Wilkes, Mrs. James (Ellen Needs)  female   \n",
       "2          894       2                     Myles, Mr. Thomas Francis    male   \n",
       "3          895       3                              Wirz, Mr. Albert    male   \n",
       "4          896       3  Hirvonen, Mrs. Alexander (Helga E Lindqvist)  female   \n",
       "\n",
       "    Age  SibSp  Parch   Ticket     Fare Cabin Embarked  \n",
       "0  34.5      0      0   330911   7.8292   NaN        Q  \n",
       "1  47.0      1      0   363272   7.0000   NaN        S  \n",
       "2  62.0      0      0   240276   9.6875   NaN        Q  \n",
       "3  27.0      0      0   315154   8.6625   NaN        S  \n",
       "4  22.0      1      1  3101298  12.2875   NaN        S  "
      ]
     },
     "execution_count": 55,
     "metadata": {},
     "output_type": "execute_result"
    }
   ],
   "source": [
    "T_ts = pd.read_csv(r'/kaggle/input/titanic/test.csv')\n",
    "T_ts.head()"
   ]
  },
  {
   "cell_type": "code",
   "execution_count": 56,
   "id": "ac27d055",
   "metadata": {
    "execution": {
     "iopub.execute_input": "2022-08-30T16:29:48.074372Z",
     "iopub.status.busy": "2022-08-30T16:29:48.073341Z",
     "iopub.status.idle": "2022-08-30T16:29:48.082958Z",
     "shell.execute_reply": "2022-08-30T16:29:48.081786Z"
    },
    "papermill": {
     "duration": 0.057809,
     "end_time": "2022-08-30T16:29:48.085704",
     "exception": false,
     "start_time": "2022-08-30T16:29:48.027895",
     "status": "completed"
    },
    "tags": []
   },
   "outputs": [
    {
     "name": "stdout",
     "output_type": "stream",
     "text": [
      "(418, 11)\n"
     ]
    },
    {
     "data": {
      "text/plain": [
       "PassengerId      0\n",
       "Pclass           0\n",
       "Name             0\n",
       "Sex              0\n",
       "Age             86\n",
       "SibSp            0\n",
       "Parch            0\n",
       "Ticket           0\n",
       "Fare             1\n",
       "Cabin          327\n",
       "Embarked         0\n",
       "dtype: int64"
      ]
     },
     "execution_count": 56,
     "metadata": {},
     "output_type": "execute_result"
    }
   ],
   "source": [
    "print(T_ts.shape)\n",
    "T_ts.isnull().sum()"
   ]
  },
  {
   "cell_type": "code",
   "execution_count": 57,
   "id": "bec958cb",
   "metadata": {
    "execution": {
     "iopub.execute_input": "2022-08-30T16:29:48.176265Z",
     "iopub.status.busy": "2022-08-30T16:29:48.175643Z",
     "iopub.status.idle": "2022-08-30T16:29:48.181277Z",
     "shell.execute_reply": "2022-08-30T16:29:48.180407Z"
    },
    "papermill": {
     "duration": 0.05362,
     "end_time": "2022-08-30T16:29:48.183625",
     "exception": false,
     "start_time": "2022-08-30T16:29:48.130005",
     "status": "completed"
    },
    "tags": []
   },
   "outputs": [],
   "source": [
    "#Finding the mean of the column having NaN\n",
    "mean_value=T_ts['Fare'].mean()\n",
    "  \n",
    "# Replace NaNs in column S2 with the\n",
    "# mean of values in the same column\n",
    "T_ts['Fare'].fillna(value=mean_value, inplace=True)"
   ]
  },
  {
   "cell_type": "code",
   "execution_count": 58,
   "id": "6ffca9d4",
   "metadata": {
    "execution": {
     "iopub.execute_input": "2022-08-30T16:29:48.274855Z",
     "iopub.status.busy": "2022-08-30T16:29:48.274230Z",
     "iopub.status.idle": "2022-08-30T16:29:48.283210Z",
     "shell.execute_reply": "2022-08-30T16:29:48.282085Z"
    },
    "papermill": {
     "duration": 0.057421,
     "end_time": "2022-08-30T16:29:48.285639",
     "exception": false,
     "start_time": "2022-08-30T16:29:48.228218",
     "status": "completed"
    },
    "tags": []
   },
   "outputs": [
    {
     "data": {
      "text/plain": [
       "PassengerId      0\n",
       "Pclass           0\n",
       "Name             0\n",
       "Sex              0\n",
       "Age             86\n",
       "SibSp            0\n",
       "Parch            0\n",
       "Ticket           0\n",
       "Fare             0\n",
       "Cabin          327\n",
       "Embarked         0\n",
       "dtype: int64"
      ]
     },
     "execution_count": 58,
     "metadata": {},
     "output_type": "execute_result"
    }
   ],
   "source": [
    "T_ts.isnull().sum()"
   ]
  },
  {
   "cell_type": "code",
   "execution_count": 59,
   "id": "4c7b2e62",
   "metadata": {
    "execution": {
     "iopub.execute_input": "2022-08-30T16:29:48.376471Z",
     "iopub.status.busy": "2022-08-30T16:29:48.376034Z",
     "iopub.status.idle": "2022-08-30T16:29:48.395279Z",
     "shell.execute_reply": "2022-08-30T16:29:48.393839Z"
    },
    "papermill": {
     "duration": 0.067714,
     "end_time": "2022-08-30T16:29:48.397824",
     "exception": false,
     "start_time": "2022-08-30T16:29:48.330110",
     "status": "completed"
    },
    "tags": []
   },
   "outputs": [
    {
     "name": "stdout",
     "output_type": "stream",
     "text": [
      "(418, 6)\n"
     ]
    },
    {
     "data": {
      "text/html": [
       "<div>\n",
       "<style scoped>\n",
       "    .dataframe tbody tr th:only-of-type {\n",
       "        vertical-align: middle;\n",
       "    }\n",
       "\n",
       "    .dataframe tbody tr th {\n",
       "        vertical-align: top;\n",
       "    }\n",
       "\n",
       "    .dataframe thead th {\n",
       "        text-align: right;\n",
       "    }\n",
       "</style>\n",
       "<table border=\"1\" class=\"dataframe\">\n",
       "  <thead>\n",
       "    <tr style=\"text-align: right;\">\n",
       "      <th></th>\n",
       "      <th>Pclass</th>\n",
       "      <th>Parch</th>\n",
       "      <th>SibSp</th>\n",
       "      <th>Sex</th>\n",
       "      <th>Embarked</th>\n",
       "      <th>Fare</th>\n",
       "    </tr>\n",
       "  </thead>\n",
       "  <tbody>\n",
       "    <tr>\n",
       "      <th>0</th>\n",
       "      <td>3</td>\n",
       "      <td>0</td>\n",
       "      <td>0</td>\n",
       "      <td>male</td>\n",
       "      <td>Q</td>\n",
       "      <td>7.8292</td>\n",
       "    </tr>\n",
       "    <tr>\n",
       "      <th>1</th>\n",
       "      <td>3</td>\n",
       "      <td>0</td>\n",
       "      <td>1</td>\n",
       "      <td>female</td>\n",
       "      <td>S</td>\n",
       "      <td>7.0000</td>\n",
       "    </tr>\n",
       "    <tr>\n",
       "      <th>2</th>\n",
       "      <td>2</td>\n",
       "      <td>0</td>\n",
       "      <td>0</td>\n",
       "      <td>male</td>\n",
       "      <td>Q</td>\n",
       "      <td>9.6875</td>\n",
       "    </tr>\n",
       "    <tr>\n",
       "      <th>3</th>\n",
       "      <td>3</td>\n",
       "      <td>0</td>\n",
       "      <td>0</td>\n",
       "      <td>male</td>\n",
       "      <td>S</td>\n",
       "      <td>8.6625</td>\n",
       "    </tr>\n",
       "    <tr>\n",
       "      <th>4</th>\n",
       "      <td>3</td>\n",
       "      <td>1</td>\n",
       "      <td>1</td>\n",
       "      <td>female</td>\n",
       "      <td>S</td>\n",
       "      <td>12.2875</td>\n",
       "    </tr>\n",
       "  </tbody>\n",
       "</table>\n",
       "</div>"
      ],
      "text/plain": [
       "   Pclass  Parch  SibSp     Sex Embarked     Fare\n",
       "0       3      0      0    male        Q   7.8292\n",
       "1       3      0      1  female        S   7.0000\n",
       "2       2      0      0    male        Q   9.6875\n",
       "3       3      0      0    male        S   8.6625\n",
       "4       3      1      1  female        S  12.2875"
      ]
     },
     "execution_count": 59,
     "metadata": {},
     "output_type": "execute_result"
    }
   ],
   "source": [
    "subset=['Pclass', 'Parch','SibSp', 'Sex','Embarked', 'Fare']\n",
    "T_ts_sub=T_ts[subset]\n",
    "\n",
    "T_ts_sub=T_ts_sub.dropna()\n",
    "print(T_ts_sub.shape)\n",
    "T_ts_sub.head()"
   ]
  },
  {
   "cell_type": "code",
   "execution_count": 60,
   "id": "f9e1f9b6",
   "metadata": {
    "execution": {
     "iopub.execute_input": "2022-08-30T16:29:48.490075Z",
     "iopub.status.busy": "2022-08-30T16:29:48.489253Z",
     "iopub.status.idle": "2022-08-30T16:29:48.514856Z",
     "shell.execute_reply": "2022-08-30T16:29:48.513780Z"
    },
    "papermill": {
     "duration": 0.074332,
     "end_time": "2022-08-30T16:29:48.517174",
     "exception": false,
     "start_time": "2022-08-30T16:29:48.442842",
     "status": "completed"
    },
    "tags": []
   },
   "outputs": [
    {
     "data": {
      "text/html": [
       "<div>\n",
       "<style scoped>\n",
       "    .dataframe tbody tr th:only-of-type {\n",
       "        vertical-align: middle;\n",
       "    }\n",
       "\n",
       "    .dataframe tbody tr th {\n",
       "        vertical-align: top;\n",
       "    }\n",
       "\n",
       "    .dataframe thead th {\n",
       "        text-align: right;\n",
       "    }\n",
       "</style>\n",
       "<table border=\"1\" class=\"dataframe\">\n",
       "  <thead>\n",
       "    <tr style=\"text-align: right;\">\n",
       "      <th></th>\n",
       "      <th>Pclass_2</th>\n",
       "      <th>Pclass_3</th>\n",
       "      <th>Parch_1</th>\n",
       "      <th>Parch_2</th>\n",
       "      <th>Parch_3</th>\n",
       "      <th>Parch_4</th>\n",
       "      <th>Parch_5</th>\n",
       "      <th>Parch_6</th>\n",
       "      <th>Parch_9</th>\n",
       "      <th>SibSp_1</th>\n",
       "      <th>SibSp_2</th>\n",
       "      <th>SibSp_3</th>\n",
       "      <th>SibSp_4</th>\n",
       "      <th>SibSp_5</th>\n",
       "      <th>SibSp_8</th>\n",
       "      <th>Sex_male</th>\n",
       "      <th>Embarked_Q</th>\n",
       "      <th>Embarked_S</th>\n",
       "      <th>Fare</th>\n",
       "    </tr>\n",
       "  </thead>\n",
       "  <tbody>\n",
       "    <tr>\n",
       "      <th>0</th>\n",
       "      <td>0</td>\n",
       "      <td>1</td>\n",
       "      <td>0</td>\n",
       "      <td>0</td>\n",
       "      <td>0</td>\n",
       "      <td>0</td>\n",
       "      <td>0</td>\n",
       "      <td>0</td>\n",
       "      <td>0</td>\n",
       "      <td>0</td>\n",
       "      <td>0</td>\n",
       "      <td>0</td>\n",
       "      <td>0</td>\n",
       "      <td>0</td>\n",
       "      <td>0</td>\n",
       "      <td>1</td>\n",
       "      <td>1</td>\n",
       "      <td>0</td>\n",
       "      <td>7.8292</td>\n",
       "    </tr>\n",
       "    <tr>\n",
       "      <th>1</th>\n",
       "      <td>0</td>\n",
       "      <td>1</td>\n",
       "      <td>0</td>\n",
       "      <td>0</td>\n",
       "      <td>0</td>\n",
       "      <td>0</td>\n",
       "      <td>0</td>\n",
       "      <td>0</td>\n",
       "      <td>0</td>\n",
       "      <td>1</td>\n",
       "      <td>0</td>\n",
       "      <td>0</td>\n",
       "      <td>0</td>\n",
       "      <td>0</td>\n",
       "      <td>0</td>\n",
       "      <td>0</td>\n",
       "      <td>0</td>\n",
       "      <td>1</td>\n",
       "      <td>7.0000</td>\n",
       "    </tr>\n",
       "    <tr>\n",
       "      <th>2</th>\n",
       "      <td>1</td>\n",
       "      <td>0</td>\n",
       "      <td>0</td>\n",
       "      <td>0</td>\n",
       "      <td>0</td>\n",
       "      <td>0</td>\n",
       "      <td>0</td>\n",
       "      <td>0</td>\n",
       "      <td>0</td>\n",
       "      <td>0</td>\n",
       "      <td>0</td>\n",
       "      <td>0</td>\n",
       "      <td>0</td>\n",
       "      <td>0</td>\n",
       "      <td>0</td>\n",
       "      <td>1</td>\n",
       "      <td>1</td>\n",
       "      <td>0</td>\n",
       "      <td>9.6875</td>\n",
       "    </tr>\n",
       "    <tr>\n",
       "      <th>3</th>\n",
       "      <td>0</td>\n",
       "      <td>1</td>\n",
       "      <td>0</td>\n",
       "      <td>0</td>\n",
       "      <td>0</td>\n",
       "      <td>0</td>\n",
       "      <td>0</td>\n",
       "      <td>0</td>\n",
       "      <td>0</td>\n",
       "      <td>0</td>\n",
       "      <td>0</td>\n",
       "      <td>0</td>\n",
       "      <td>0</td>\n",
       "      <td>0</td>\n",
       "      <td>0</td>\n",
       "      <td>1</td>\n",
       "      <td>0</td>\n",
       "      <td>1</td>\n",
       "      <td>8.6625</td>\n",
       "    </tr>\n",
       "    <tr>\n",
       "      <th>4</th>\n",
       "      <td>0</td>\n",
       "      <td>1</td>\n",
       "      <td>1</td>\n",
       "      <td>0</td>\n",
       "      <td>0</td>\n",
       "      <td>0</td>\n",
       "      <td>0</td>\n",
       "      <td>0</td>\n",
       "      <td>0</td>\n",
       "      <td>1</td>\n",
       "      <td>0</td>\n",
       "      <td>0</td>\n",
       "      <td>0</td>\n",
       "      <td>0</td>\n",
       "      <td>0</td>\n",
       "      <td>0</td>\n",
       "      <td>0</td>\n",
       "      <td>1</td>\n",
       "      <td>12.2875</td>\n",
       "    </tr>\n",
       "  </tbody>\n",
       "</table>\n",
       "</div>"
      ],
      "text/plain": [
       "   Pclass_2  Pclass_3  Parch_1  Parch_2  Parch_3  Parch_4  Parch_5  Parch_6  \\\n",
       "0         0         1        0        0        0        0        0        0   \n",
       "1         0         1        0        0        0        0        0        0   \n",
       "2         1         0        0        0        0        0        0        0   \n",
       "3         0         1        0        0        0        0        0        0   \n",
       "4         0         1        1        0        0        0        0        0   \n",
       "\n",
       "   Parch_9  SibSp_1  SibSp_2  SibSp_3  SibSp_4  SibSp_5  SibSp_8  Sex_male  \\\n",
       "0        0        0        0        0        0        0        0         1   \n",
       "1        0        1        0        0        0        0        0         0   \n",
       "2        0        0        0        0        0        0        0         1   \n",
       "3        0        0        0        0        0        0        0         1   \n",
       "4        0        1        0        0        0        0        0         0   \n",
       "\n",
       "   Embarked_Q  Embarked_S     Fare  \n",
       "0           1           0   7.8292  \n",
       "1           0           1   7.0000  \n",
       "2           1           0   9.6875  \n",
       "3           0           1   8.6625  \n",
       "4           0           1  12.2875  "
      ]
     },
     "execution_count": 60,
     "metadata": {},
     "output_type": "execute_result"
    }
   ],
   "source": [
    "predictors=['Pclass', 'Parch','SibSp', 'Sex','Embarked', 'Fare']\n",
    "subs=['Pclass', 'Parch','SibSp', 'Sex','Embarked']\n",
    "T_ts_subss=T_ts_sub[subs]\n",
    "Xt=pd.get_dummies(T_ts_subss,drop_first=True, columns=T_tr_subss.columns)\n",
    "Xt=pd.concat([Xt, T_ts_sub[['Fare']]], axis=1)\n",
    "Xt.head()"
   ]
  },
  {
   "cell_type": "code",
   "execution_count": 61,
   "id": "8dbcd371",
   "metadata": {
    "execution": {
     "iopub.execute_input": "2022-08-30T16:29:48.609699Z",
     "iopub.status.busy": "2022-08-30T16:29:48.608963Z",
     "iopub.status.idle": "2022-08-30T16:29:48.614845Z",
     "shell.execute_reply": "2022-08-30T16:29:48.613708Z"
    },
    "papermill": {
     "duration": 0.055921,
     "end_time": "2022-08-30T16:29:48.618081",
     "exception": false,
     "start_time": "2022-08-30T16:29:48.562160",
     "status": "completed"
    },
    "tags": []
   },
   "outputs": [
    {
     "name": "stdout",
     "output_type": "stream",
     "text": [
      "Index(['Pclass_2', 'Pclass_3', 'Parch_1', 'Parch_2', 'Parch_3', 'Parch_4',\n",
      "       'Parch_5', 'Parch_6', 'Parch_9', 'SibSp_1', 'SibSp_2', 'SibSp_3',\n",
      "       'SibSp_4', 'SibSp_5', 'SibSp_8', 'Sex_male', 'Embarked_Q', 'Embarked_S',\n",
      "       'Fare'],\n",
      "      dtype='object')\n",
      "Index(['Pclass_2', 'Pclass_3', 'Parch_1', 'Parch_2', 'Parch_3', 'Parch_4',\n",
      "       'Parch_5', 'Parch_6', 'SibSp_1', 'SibSp_2', 'SibSp_3', 'SibSp_4',\n",
      "       'SibSp_5', 'SibSp_8', 'Sex_male', 'Embarked_Q', 'Embarked_S', 'Fare'],\n",
      "      dtype='object')\n"
     ]
    }
   ],
   "source": [
    "print(Xt.columns)\n",
    "print(X.columns)"
   ]
  },
  {
   "cell_type": "code",
   "execution_count": 62,
   "id": "432e8830",
   "metadata": {
    "execution": {
     "iopub.execute_input": "2022-08-30T16:29:48.710991Z",
     "iopub.status.busy": "2022-08-30T16:29:48.710268Z",
     "iopub.status.idle": "2022-08-30T16:29:48.716246Z",
     "shell.execute_reply": "2022-08-30T16:29:48.715100Z"
    },
    "papermill": {
     "duration": 0.055396,
     "end_time": "2022-08-30T16:29:48.718925",
     "exception": false,
     "start_time": "2022-08-30T16:29:48.663529",
     "status": "completed"
    },
    "tags": []
   },
   "outputs": [],
   "source": [
    "Xt=Xt.drop(['Parch_9'],axis=1)"
   ]
  },
  {
   "cell_type": "code",
   "execution_count": 63,
   "id": "31cb2144",
   "metadata": {
    "execution": {
     "iopub.execute_input": "2022-08-30T16:29:48.812184Z",
     "iopub.status.busy": "2022-08-30T16:29:48.811259Z",
     "iopub.status.idle": "2022-08-30T16:29:48.917772Z",
     "shell.execute_reply": "2022-08-30T16:29:48.916989Z"
    },
    "papermill": {
     "duration": 0.155875,
     "end_time": "2022-08-30T16:29:48.920145",
     "exception": false,
     "start_time": "2022-08-30T16:29:48.764270",
     "status": "completed"
    },
    "tags": []
   },
   "outputs": [
    {
     "data": {
      "text/html": [
       "<div>\n",
       "<style scoped>\n",
       "    .dataframe tbody tr th:only-of-type {\n",
       "        vertical-align: middle;\n",
       "    }\n",
       "\n",
       "    .dataframe tbody tr th {\n",
       "        vertical-align: top;\n",
       "    }\n",
       "\n",
       "    .dataframe thead th {\n",
       "        text-align: right;\n",
       "    }\n",
       "</style>\n",
       "<table border=\"1\" class=\"dataframe\">\n",
       "  <thead>\n",
       "    <tr style=\"text-align: right;\">\n",
       "      <th></th>\n",
       "      <th>0</th>\n",
       "      <th>0</th>\n",
       "      <th>0</th>\n",
       "    </tr>\n",
       "  </thead>\n",
       "  <tbody>\n",
       "    <tr>\n",
       "      <th>0</th>\n",
       "      <td>0</td>\n",
       "      <td>0</td>\n",
       "      <td>0.0</td>\n",
       "    </tr>\n",
       "    <tr>\n",
       "      <th>1</th>\n",
       "      <td>1</td>\n",
       "      <td>0</td>\n",
       "      <td>1.0</td>\n",
       "    </tr>\n",
       "    <tr>\n",
       "      <th>2</th>\n",
       "      <td>0</td>\n",
       "      <td>0</td>\n",
       "      <td>0.0</td>\n",
       "    </tr>\n",
       "    <tr>\n",
       "      <th>3</th>\n",
       "      <td>0</td>\n",
       "      <td>0</td>\n",
       "      <td>0.0</td>\n",
       "    </tr>\n",
       "    <tr>\n",
       "      <th>4</th>\n",
       "      <td>1</td>\n",
       "      <td>1</td>\n",
       "      <td>1.0</td>\n",
       "    </tr>\n",
       "  </tbody>\n",
       "</table>\n",
       "</div>"
      ],
      "text/plain": [
       "   0  0    0\n",
       "0  0  0  0.0\n",
       "1  1  0  1.0\n",
       "2  0  0  0.0\n",
       "3  0  0  0.0\n",
       "4  1  1  1.0"
      ]
     },
     "execution_count": 63,
     "metadata": {},
     "output_type": "execute_result"
    }
   ],
   "source": [
    "pred_lr=pd.DataFrame(logit_reg.predict(Xt))\n",
    "pred_rf=pd.DataFrame(rf.predict(Xt))\n",
    "pred_tf=pd.DataFrame(model.predict(Xt))\n",
    "\n",
    "Merge_pred=pd.concat([pred_lr,pred_rf,(round(pred_tf))], axis=1)\n",
    "Merge_pred.head()"
   ]
  },
  {
   "cell_type": "code",
   "execution_count": 64,
   "id": "9663d753",
   "metadata": {
    "execution": {
     "iopub.execute_input": "2022-08-30T16:29:49.012379Z",
     "iopub.status.busy": "2022-08-30T16:29:49.011595Z",
     "iopub.status.idle": "2022-08-30T16:29:49.102990Z",
     "shell.execute_reply": "2022-08-30T16:29:49.102152Z"
    },
    "papermill": {
     "duration": 0.140393,
     "end_time": "2022-08-30T16:29:49.105492",
     "exception": false,
     "start_time": "2022-08-30T16:29:48.965099",
     "status": "completed"
    },
    "tags": []
   },
   "outputs": [],
   "source": [
    "Merge_one=pd.DataFrame(Merge_pred.mode(axis=1))"
   ]
  },
  {
   "cell_type": "code",
   "execution_count": 65,
   "id": "e539d96d",
   "metadata": {
    "execution": {
     "iopub.execute_input": "2022-08-30T16:29:49.197848Z",
     "iopub.status.busy": "2022-08-30T16:29:49.197184Z",
     "iopub.status.idle": "2022-08-30T16:29:49.203861Z",
     "shell.execute_reply": "2022-08-30T16:29:49.202791Z"
    },
    "papermill": {
     "duration": 0.055437,
     "end_time": "2022-08-30T16:29:49.206267",
     "exception": false,
     "start_time": "2022-08-30T16:29:49.150830",
     "status": "completed"
    },
    "tags": []
   },
   "outputs": [],
   "source": [
    "Merge_one=pd.concat([T_ts.iloc[:,0],Merge_one], axis=1)"
   ]
  },
  {
   "cell_type": "code",
   "execution_count": 66,
   "id": "48b1b43f",
   "metadata": {
    "execution": {
     "iopub.execute_input": "2022-08-30T16:29:49.300021Z",
     "iopub.status.busy": "2022-08-30T16:29:49.299324Z",
     "iopub.status.idle": "2022-08-30T16:29:49.312738Z",
     "shell.execute_reply": "2022-08-30T16:29:49.311671Z"
    },
    "papermill": {
     "duration": 0.063038,
     "end_time": "2022-08-30T16:29:49.314839",
     "exception": false,
     "start_time": "2022-08-30T16:29:49.251801",
     "status": "completed"
    },
    "tags": []
   },
   "outputs": [
    {
     "data": {
      "text/html": [
       "<div>\n",
       "<style scoped>\n",
       "    .dataframe tbody tr th:only-of-type {\n",
       "        vertical-align: middle;\n",
       "    }\n",
       "\n",
       "    .dataframe tbody tr th {\n",
       "        vertical-align: top;\n",
       "    }\n",
       "\n",
       "    .dataframe thead th {\n",
       "        text-align: right;\n",
       "    }\n",
       "</style>\n",
       "<table border=\"1\" class=\"dataframe\">\n",
       "  <thead>\n",
       "    <tr style=\"text-align: right;\">\n",
       "      <th></th>\n",
       "      <th>PassengerId</th>\n",
       "      <th>Survived</th>\n",
       "    </tr>\n",
       "  </thead>\n",
       "  <tbody>\n",
       "    <tr>\n",
       "      <th>0</th>\n",
       "      <td>892</td>\n",
       "      <td>0.0</td>\n",
       "    </tr>\n",
       "    <tr>\n",
       "      <th>1</th>\n",
       "      <td>893</td>\n",
       "      <td>1.0</td>\n",
       "    </tr>\n",
       "    <tr>\n",
       "      <th>2</th>\n",
       "      <td>894</td>\n",
       "      <td>0.0</td>\n",
       "    </tr>\n",
       "    <tr>\n",
       "      <th>3</th>\n",
       "      <td>895</td>\n",
       "      <td>0.0</td>\n",
       "    </tr>\n",
       "    <tr>\n",
       "      <th>4</th>\n",
       "      <td>896</td>\n",
       "      <td>1.0</td>\n",
       "    </tr>\n",
       "    <tr>\n",
       "      <th>...</th>\n",
       "      <td>...</td>\n",
       "      <td>...</td>\n",
       "    </tr>\n",
       "    <tr>\n",
       "      <th>413</th>\n",
       "      <td>1305</td>\n",
       "      <td>0.0</td>\n",
       "    </tr>\n",
       "    <tr>\n",
       "      <th>414</th>\n",
       "      <td>1306</td>\n",
       "      <td>1.0</td>\n",
       "    </tr>\n",
       "    <tr>\n",
       "      <th>415</th>\n",
       "      <td>1307</td>\n",
       "      <td>0.0</td>\n",
       "    </tr>\n",
       "    <tr>\n",
       "      <th>416</th>\n",
       "      <td>1308</td>\n",
       "      <td>0.0</td>\n",
       "    </tr>\n",
       "    <tr>\n",
       "      <th>417</th>\n",
       "      <td>1309</td>\n",
       "      <td>0.0</td>\n",
       "    </tr>\n",
       "  </tbody>\n",
       "</table>\n",
       "<p>418 rows × 2 columns</p>\n",
       "</div>"
      ],
      "text/plain": [
       "     PassengerId  Survived\n",
       "0            892       0.0\n",
       "1            893       1.0\n",
       "2            894       0.0\n",
       "3            895       0.0\n",
       "4            896       1.0\n",
       "..           ...       ...\n",
       "413         1305       0.0\n",
       "414         1306       1.0\n",
       "415         1307       0.0\n",
       "416         1308       0.0\n",
       "417         1309       0.0\n",
       "\n",
       "[418 rows x 2 columns]"
      ]
     },
     "execution_count": 66,
     "metadata": {},
     "output_type": "execute_result"
    }
   ],
   "source": [
    "Merge_one.columns=['PassengerId','Survived' ]\n",
    "Merge_one"
   ]
  },
  {
   "cell_type": "code",
   "execution_count": 67,
   "id": "aa79aace",
   "metadata": {
    "execution": {
     "iopub.execute_input": "2022-08-30T16:29:49.407944Z",
     "iopub.status.busy": "2022-08-30T16:29:49.407242Z",
     "iopub.status.idle": "2022-08-30T16:29:49.415044Z",
     "shell.execute_reply": "2022-08-30T16:29:49.414269Z"
    },
    "papermill": {
     "duration": 0.056654,
     "end_time": "2022-08-30T16:29:49.417225",
     "exception": false,
     "start_time": "2022-08-30T16:29:49.360571",
     "status": "completed"
    },
    "tags": []
   },
   "outputs": [],
   "source": [
    "Merge_one.to_csv('submission.csv')"
   ]
  },
  {
   "cell_type": "code",
   "execution_count": 68,
   "id": "b20cea43",
   "metadata": {
    "execution": {
     "iopub.execute_input": "2022-08-30T16:29:49.511012Z",
     "iopub.status.busy": "2022-08-30T16:29:49.510335Z",
     "iopub.status.idle": "2022-08-30T16:29:49.517755Z",
     "shell.execute_reply": "2022-08-30T16:29:49.516105Z"
    },
    "papermill": {
     "duration": 0.057329,
     "end_time": "2022-08-30T16:29:49.520321",
     "exception": false,
     "start_time": "2022-08-30T16:29:49.462992",
     "status": "completed"
    },
    "tags": []
   },
   "outputs": [
    {
     "name": "stdout",
     "output_type": "stream",
     "text": [
      "/kaggle/src/script.ipynb\n",
      "/kaggle/lib/kaggle/gcp.py\n",
      "/kaggle/input/titanic/train.csv\n",
      "/kaggle/input/titanic/test.csv\n",
      "/kaggle/input/titanic/gender_submission.csv\n",
      "/kaggle/working/__notebook__.ipynb\n",
      "/kaggle/working/submission.csv\n"
     ]
    }
   ],
   "source": [
    "for dirname, _, filenames in os.walk('/kaggle/'):\n",
    "    for filename in filenames:\n",
    "        print(os.path.join(dirname, filename))"
   ]
  }
 ],
 "metadata": {
  "kernelspec": {
   "display_name": "Python 3",
   "language": "python",
   "name": "python3"
  },
  "language_info": {
   "codemirror_mode": {
    "name": "ipython",
    "version": 3
   },
   "file_extension": ".py",
   "mimetype": "text/x-python",
   "name": "python",
   "nbconvert_exporter": "python",
   "pygments_lexer": "ipython3",
   "version": "3.7.12"
  },
  "papermill": {
   "default_parameters": {},
   "duration": 259.42856,
   "end_time": "2022-08-30T16:29:53.011779",
   "environment_variables": {},
   "exception": null,
   "input_path": "__notebook__.ipynb",
   "output_path": "__notebook__.ipynb",
   "parameters": {},
   "start_time": "2022-08-30T16:25:33.583219",
   "version": "2.3.4"
  }
 },
 "nbformat": 4,
 "nbformat_minor": 5
}
